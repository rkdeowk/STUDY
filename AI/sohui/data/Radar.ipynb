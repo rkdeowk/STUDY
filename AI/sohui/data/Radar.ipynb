{
 "cells": [
  {
   "cell_type": "code",
   "execution_count": null,
   "metadata": {},
   "outputs": [],
   "source": [
    "import pandas as pd\n",
    "import numpy as np\n",
    "import seaborn as sns\n",
    "import matplotlib.pyplot as plt\n"
   ]
  },
  {
   "cell_type": "code",
   "execution_count": null,
   "metadata": {},
   "outputs": [],
   "source": [
    "df = pd.read_csv('train.csv')"
   ]
  },
  {
   "cell_type": "code",
   "execution_count": null,
   "metadata": {},
   "outputs": [],
   "source": [
    "df.head()"
   ]
  },
  {
   "cell_type": "code",
   "execution_count": null,
   "metadata": {},
   "outputs": [],
   "source": [
    "df.info()"
   ]
  },
  {
   "cell_type": "code",
   "execution_count": null,
   "metadata": {},
   "outputs": [],
   "source": [
    "def check_null_count(df):\n",
    "    null_sum = df.isnull().sum()\n",
    "    return len(null_sum[null_sum!=0])\n",
    "\n",
    "check_null_count(df)"
   ]
  },
  {
   "cell_type": "code",
   "execution_count": null,
   "metadata": {},
   "outputs": [],
   "source": [
    "def check_uniform_col(df):\n",
    "    for col in df.columns:\n",
    "        if df[col].nunique()==1:\n",
    "            print(col)\n",
    "\n",
    "check_uniform_col(df)"
   ]
  },
  {
   "cell_type": "code",
   "execution_count": null,
   "metadata": {},
   "outputs": [],
   "source": [
    "df = df.drop(['X_04', 'X_23', 'X_47', 'X_48'], axis=1)\n",
    "df.columns"
   ]
  },
  {
   "cell_type": "code",
   "execution_count": null,
   "metadata": {},
   "outputs": [],
   "source": [
    "def check_multicolinear(df):\n",
    "    \n",
    "    df_corr = df.corr()\n",
    "    rows, cols = np.where(df_corr==1)\n",
    "    row_names = df_corr.index[rows]\n",
    "    col_names = df_corr.columns[cols]\n",
    "    \n",
    "    for row, col in zip(row_names, col_names):\n",
    "        if row != col:\n",
    "            print(f\"행: {row}, 열: {col}\") \n",
    "\n",
    "check_multicolinear(df)"
   ]
  },
  {
   "cell_type": "code",
   "execution_count": null,
   "metadata": {},
   "outputs": [],
   "source": [
    "x_feature = df.filter(regex='^X_*') # Input : X Featrue\n",
    "y_feature = df.filter(regex='^Y_*') # Output : Y Feature"
   ]
  },
  {
   "cell_type": "code",
   "execution_count": null,
   "metadata": {},
   "outputs": [],
   "source": [
    "from sklearn.model_selection import train_test_split\n",
    "\n",
    "x_train_val, x_test, y_train_val, y_test = train_test_split(x_feature, y_feature, test_size=0.2, random_state=0)\n",
    "x_train, x_val, y_train, y_val =train_test_split(x_train_val, y_train_val, test_size = 0.25, random_state=0)\n",
    "\n",
    "print(f'x_train: {x_train.shape}, x_val: {x_val.shape}, x_test: {x_test.shape}')\n",
    "print(f'y_train: {x_train.shape}, y_val: {x_val.shape}, y_test: {y_test.shape}')"
   ]
  },
  {
   "cell_type": "code",
   "execution_count": null,
   "metadata": {},
   "outputs": [],
   "source": [
    "from sklearn.preprocessing import StandardScaler, RobustScaler, MinMaxScaler, Normalizer\n",
    "\n",
    "scaler = StandardScaler()\n",
    "scaler.fit(x_train)\n",
    "\n",
    "x_train_zscale = scaler.transform(x_train)\n",
    "x_val_zscale = scaler.transform(x_val)\n",
    "x_test_zscale = scaler.transform(x_test) "
   ]
  },
  {
   "cell_type": "code",
   "execution_count": null,
   "metadata": {},
   "outputs": [],
   "source": [
    "from sklearn.multioutput import MultiOutputRegressor\n",
    "from sklearn.linear_model import Ridge\n",
    "from sklearn.metrics import mean_squared_error\n",
    "\n",
    "for alpha in [0, 0.5, 1, 3, 5, 10, 100, 1000]:\n",
    "    regressor = MultiOutputRegressor(Ridge(alpha=alpha, random_state=0)).fit(x_train_zscale, y_train)\n",
    "    x_val_pred = regressor.predict(x_val_zscale)\n",
    "    mse = mean_squared_error(y_val, x_val_pred)\n",
    "    print(f\"{alpha, mse}\") "
   ]
  },
  {
   "cell_type": "code",
   "execution_count": null,
   "metadata": {},
   "outputs": [],
   "source": [
    "for solver in ['auto', 'svd', 'cholesky', 'lsqr', 'sparse_cg', 'sag', 'saga']:\n",
    "    regressor = MultiOutputRegressor(Ridge(solver=solver, random_state=0)).fit(x_train_zscale, y_train)\n",
    "    x_val_pred = regressor.predict(x_val_zscale)\n",
    "    mse = mean_squared_error(y_val, x_val_pred)\n",
    "    print(f\"{solver, mse}\") "
   ]
  },
  {
   "cell_type": "code",
   "execution_count": null,
   "metadata": {},
   "outputs": [],
   "source": [
    "\n",
    "\n"
   ]
  }
 ],
 "metadata": {
  "kernelspec": {
   "display_name": "base",
   "language": "python",
   "name": "python3"
  },
  "language_info": {
   "codemirror_mode": {
    "name": "ipython",
    "version": 3
   },
   "file_extension": ".py",
   "mimetype": "text/x-python",
   "name": "python",
   "nbconvert_exporter": "python",
   "pygments_lexer": "ipython3",
   "version": "3.9.13"
  }
 },
 "nbformat": 4,
 "nbformat_minor": 2
}
