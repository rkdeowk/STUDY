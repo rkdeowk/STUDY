{
 "cells": [
  {
   "cell_type": "code",
   "execution_count": null,
   "metadata": {},
   "outputs": [],
   "source": [
    "import pandas as pd\n",
    "import numpy as np\n",
    "import seaborn as sns\n",
    "import matplotlib.pyplot as plt\n"
   ]
  },
  {
   "cell_type": "code",
   "execution_count": null,
   "metadata": {},
   "outputs": [],
   "source": [
    "df = pd.read_csv('train.csv')"
   ]
  },
  {
   "cell_type": "code",
   "execution_count": null,
   "metadata": {},
   "outputs": [],
   "source": [
    "df.head()"
   ]
  },
  {
   "cell_type": "code",
   "execution_count": null,
   "metadata": {},
   "outputs": [],
   "source": [
    "df.info()"
   ]
  },
  {
   "cell_type": "code",
   "execution_count": null,
   "metadata": {},
   "outputs": [],
   "source": [
    "def check_null_count(df):\n",
    "    null_sum = df.isnull().sum()\n",
    "    return len(null_sum[null_sum!=0])\n",
    "\n",
    "check_null_count(df)"
   ]
  },
  {
   "cell_type": "code",
   "execution_count": null,
   "metadata": {},
   "outputs": [],
   "source": [
    "def check_uniform_col(df):\n",
    "    for col in df.columns:\n",
    "        if df[col].nunique()==1:\n",
    "            print(col)\n",
    "\n",
    "check_uniform_col(df)"
   ]
  },
  {
   "cell_type": "code",
   "execution_count": null,
   "metadata": {},
   "outputs": [],
   "source": [
    "df_new = df.drop(['X_04', 'X_23', 'X_47', 'X_48'], axis=1)\n",
    "df_new.head()"
   ]
  },
  {
   "cell_type": "code",
   "execution_count": null,
   "metadata": {},
   "outputs": [],
   "source": [
    "def check_multicolinear(df):\n",
    "    \n",
    "    df_corr = df.corr()\n",
    "    rows, cols = np.where(df_corr==1)\n",
    "    row_names = df_corr.index[rows]\n",
    "    col_names = df_corr.columns[cols]\n",
    "    \n",
    "    for row, col in zip(row_names, col_names):\n",
    "        if row != col:\n",
    "            print(f\"행: {row}, 열: {col}\") \n",
    "\n",
    "check_multicolinear(df_new)"
   ]
  },
  {
   "cell_type": "code",
   "execution_count": null,
   "metadata": {},
   "outputs": [],
   "source": [
    "x_feature = df.filter(regex='^X_*') # Input : X Featrue\n",
    "y_feature = df.filter(regex='^Y_*') # Output : Y Feature"
   ]
  },
  {
   "cell_type": "code",
   "execution_count": null,
   "metadata": {},
   "outputs": [],
   "source": [
    "from sklearn.model_selection import train_test_split\n",
    "\n",
    "x_train_val, x_test, y_train_val, y_test = train_test_split(x_feature, y_feature, test_size=0.2, random_state=0)\n",
    "x_train, x_val, y_train, y_val =train_test_split(x_train_val, y_train_val, test_size = 0.25, random_state=0)\n",
    "\n",
    "print(f'x_train: {x_train.shape}, x_val: {x_val.shape}, x_test: {x_test.shape}')\n",
    "print(f'y_train: {x_train.shape}, y_val: {x_val.shape}, y_test: {y_test.shape}')"
   ]
  },
  {
   "cell_type": "code",
   "execution_count": null,
   "metadata": {},
   "outputs": [],
   "source": []
  },
  {
   "cell_type": "code",
   "execution_count": null,
   "metadata": {},
   "outputs": [],
   "source": [
    "X.describe()"
   ]
  },
  {
   "cell_type": "code",
   "execution_count": null,
   "metadata": {},
   "outputs": [],
   "source": [
    "X.info()"
   ]
  },
  {
   "cell_type": "code",
   "execution_count": null,
   "metadata": {},
   "outputs": [],
   "source": [
    "Y.head()"
   ]
  },
  {
   "cell_type": "code",
   "execution_count": null,
   "metadata": {},
   "outputs": [],
   "source": [
    "Y.shape"
   ]
  },
  {
   "cell_type": "code",
   "execution_count": null,
   "metadata": {},
   "outputs": [],
   "source": [
    "Y.describe()"
   ]
  },
  {
   "cell_type": "code",
   "execution_count": null,
   "metadata": {},
   "outputs": [],
   "source": [
    "Y.info()"
   ]
  },
  {
   "cell_type": "code",
   "execution_count": null,
   "metadata": {},
   "outputs": [],
   "source": [
    "X.isnull"
   ]
  },
  {
   "cell_type": "code",
   "execution_count": null,
   "metadata": {},
   "outputs": [],
   "source": [
    "Y.isnull"
   ]
  },
  {
   "cell_type": "code",
   "execution_count": null,
   "metadata": {},
   "outputs": [],
   "source": [
    "#중간 검사 결과 모두 통과 -> X_04, X_23, X_47, X_48 제외 \n",
    "\n",
    "X_mid = X.loc[:,['X_04','X_23', 'X_47', 'X_48']]\n",
    "X_mid.describe()"
   ]
  },
  {
   "cell_type": "code",
   "execution_count": null,
   "metadata": {},
   "outputs": [],
   "source": [
    "#viz function\n",
    "\n",
    "#x column's distplot\n",
    "def show_dist_plot_x(columns,data):\n",
    "    i = 0\n",
    "    plt.figure(figsize=(24,16))\n",
    "    plt.subplots(8,7,figsize=(24,16))\n",
    "    for col in columns:\n",
    "        i += 1\n",
    "        plt.subplot(8,7,i)\n",
    "        sns.distplot(data[col])\n",
    "    plt.tight_layout()\n",
    "\n",
    "#y column's distplot\n",
    "def show_dist_plot_y(columns,data):\n",
    "    i = 0\n",
    "    plt.figure(figsize=(18,8))\n",
    "    plt.subplots(2,7,figsize=(18,8))\n",
    "    for col in columns:\n",
    "        i += 1\n",
    "        plt.subplot(2,7,i)\n",
    "        sns.distplot(data[col],color='skyblue')\n",
    "    plt.tight_layout()\n",
    "    \n",
    "#violinplot\n",
    "def show_dist_plot_vio(columns,data):\n",
    "    i = 0\n",
    "    plt.figure(figsize=(24,16))\n",
    "    plt.subplots(8,7,figsize=(24,16))\n",
    "    for col in columns:\n",
    "        i += 1\n",
    "        plt.subplot(8,7,i)\n",
    "        sns.boxplot(data[col],color='skyblue')\n",
    "    plt.tight_layout()\n",
    "\n",
    "#plot\n",
    "def show_plot(data,columns):\n",
    "    for col in columns:\n",
    "        plt.figure(figsize=(36,12))\n",
    "        plt.plot(data[col])\n",
    "        plt.title(f'{col}', fontsize=40)\n",
    "        plt.tight_layout()"
   ]
  },
  {
   "cell_type": "code",
   "execution_count": null,
   "metadata": {},
   "outputs": [],
   "source": [
    "sns.set_style('whitegrid')\n",
    "show_dist_plot_x(df.filter(regex='X').columns, df)"
   ]
  },
  {
   "cell_type": "code",
   "execution_count": null,
   "metadata": {},
   "outputs": [],
   "source": [
    "show_dist_plot_vio(df.filter(regex='X').columns, df)"
   ]
  },
  {
   "cell_type": "code",
   "execution_count": null,
   "metadata": {},
   "outputs": [],
   "source": [
    "show_dist_plot_y(df.filter(regex='Y').columns, df)"
   ]
  },
  {
   "cell_type": "code",
   "execution_count": null,
   "metadata": {},
   "outputs": [],
   "source": [
    "show_dist_plot_vio(df.filter(regex='Y').columns, df)"
   ]
  },
  {
   "cell_type": "code",
   "execution_count": null,
   "metadata": {},
   "outputs": [],
   "source": [
    "#단계별 누름량(X01, X02, X05, X06)\n",
    "\n",
    "show_plot(X,[\"X_01\", \"X_02\", \"X_05\", \"X_06\"])"
   ]
  },
  {
   "cell_type": "code",
   "execution_count": null,
   "metadata": {},
   "outputs": [],
   "source": [
    "#방열 재료 무게(X03, X10, X11)\n",
    "\n",
    "show_plot(X,[\"X_03\", \"X_10\", \"X_11\"])\n",
    "\n",
    "#방열재료 무게1(X03)에서 변곡 확인 \n",
    "#방열재료 무게2,3 (X10,X11)의 대부분 무게가 0 -> 의미가 있는 데이터인지 확인 필요"
   ]
  },
  {
   "cell_type": "code",
   "execution_count": null,
   "metadata": {},
   "outputs": [],
   "source": [
    "#X10, X11의 결측치 확인\n",
    "zero_count_X10 = (X['X_10'] == 0).sum()\n",
    "zero_count_X11 = (X['X_11'] == 0).sum()\n",
    "print(zero_count_X10, zero_count_X11)"
   ]
  },
  {
   "cell_type": "code",
   "execution_count": null,
   "metadata": {},
   "outputs": [],
   "source": [
    "show_plot(X,[\"X_03\", \"X_10\", \"X_11\"])\n",
    "show_plot(Y,['Y_01', 'Y_02', 'Y_03'])"
   ]
  },
  {
   "cell_type": "code",
   "execution_count": null,
   "metadata": {},
   "outputs": [],
   "source": [
    "#방열 재료 면적(X07, X08, X09)\n",
    "\n",
    "show_plot(X,[\"X_07\", \"X_08\", \"X_09\"])\n",
    "\n",
    "#이상치가 많이 존재함 "
   ]
  },
  {
   "cell_type": "code",
   "execution_count": null,
   "metadata": {},
   "outputs": [],
   "source": [
    "show_plot(X,[\"X_07\", \"X_08\", \"X_09\"])\n",
    "show_plot(Y,['Y_01', 'Y_02', 'Y_03'])"
   ]
  },
  {
   "cell_type": "code",
   "execution_count": null,
   "metadata": {},
   "outputs": [],
   "source": [
    "#상관성 확인 -> 나중에 다시 하기 \n",
    "X_corr = X.corr() #Pearson 상관 계수 \n",
    "Y_corr = Y.corr()"
   ]
  },
  {
   "cell_type": "code",
   "execution_count": null,
   "metadata": {},
   "outputs": [],
   "source": [
    "X_corr_new = X_corr.apply(lambda x : round(x,1)) #X Feauter 중 이진 data 제거 \n"
   ]
  },
  {
   "cell_type": "code",
   "execution_count": null,
   "metadata": {},
   "outputs": [],
   "source": [
    "plt.figure(figsize=(22,14))\n",
    "sns.heatmap(X_corr_new, cmap='RdBu_r', vmax=1, vmin=-1, annot=True, fmt='.1f')"
   ]
  },
  {
   "cell_type": "code",
   "execution_count": null,
   "metadata": {},
   "outputs": [],
   "source": [
    "plt.figure(figsize=(22,14))\n",
    "sns.heatmap(Y_corr, cmap='RdBu_r', vmax=1, vmin=-1, annot=True, fmt='.1f') #Threshold를 몇으로 하는게 적절한지??? "
   ]
  }
 ],
 "metadata": {
  "kernelspec": {
   "display_name": "base",
   "language": "python",
   "name": "python3"
  },
  "language_info": {
   "codemirror_mode": {
    "name": "ipython",
    "version": 3
   },
   "file_extension": ".py",
   "mimetype": "text/x-python",
   "name": "python",
   "nbconvert_exporter": "python",
   "pygments_lexer": "ipython3",
   "version": "3.9.13"
  }
 },
 "nbformat": 4,
 "nbformat_minor": 2
}
