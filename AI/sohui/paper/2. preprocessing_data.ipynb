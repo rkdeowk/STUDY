{
 "cells": [
  {
   "cell_type": "code",
   "execution_count": 1,
   "metadata": {},
   "outputs": [],
   "source": [
    "import pandas as pd\n",
    "import numpy as np\n",
    "from PIL import Image\n",
    "import os"
   ]
  },
  {
   "cell_type": "code",
   "execution_count": 2,
   "metadata": {},
   "outputs": [],
   "source": [
    "df_fdc = pd.read_excel('./data/raw/Sensor_Data_DSS_반출.xlsx')"
   ]
  },
  {
   "cell_type": "code",
   "execution_count": 3,
   "metadata": {},
   "outputs": [
    {
     "data": {
      "text/plain": [
       "(1309, 276)"
      ]
     },
     "execution_count": 3,
     "metadata": {},
     "output_type": "execute_result"
    }
   ],
   "source": [
    "df_fdc.shape"
   ]
  },
  {
   "cell_type": "markdown",
   "metadata": {},
   "source": [
    "동일값으로만 이루어진 열 확인"
   ]
  },
  {
   "cell_type": "code",
   "execution_count": 4,
   "metadata": {},
   "outputs": [
    {
     "name": "stdout",
     "output_type": "stream",
     "text": [
      "같은 값으로 이루어진 열과 값: {}\n"
     ]
    }
   ],
   "source": [
    "def find_constant_columns(df):\n",
    "    constant_columns = {}\n",
    "    for col in df.columns:\n",
    "        if df[col].nunique() == 1:  \n",
    "            constant_columns[col] = df[col].iloc[0] \n",
    "    return constant_columns\n",
    "\n",
    "constant_columns = find_constant_columns(df_fdc)\n",
    "print(\"같은 값으로 이루어진 열과 값:\", constant_columns)"
   ]
  },
  {
   "cell_type": "markdown",
   "metadata": {},
   "source": [
    "결측치 확인"
   ]
  },
  {
   "cell_type": "code",
   "execution_count": 5,
   "metadata": {},
   "outputs": [
    {
     "name": "stdout",
     "output_type": "stream",
     "text": [
      "모든 값이 NaN인 행의 개수: 243\n"
     ]
    }
   ],
   "source": [
    "def count_all_nan_rows(df):\n",
    "    nan_rows_count = df.iloc[:, 5:].isna().all(axis=1).sum()\n",
    "    print(f\"모든 값이 NaN인 행의 개수: {nan_rows_count}\")\n",
    "\n",
    "count_all_nan_rows(df_fdc)"
   ]
  },
  {
   "cell_type": "code",
   "execution_count": 6,
   "metadata": {},
   "outputs": [
    {
     "name": "stdout",
     "output_type": "stream",
     "text": [
      "(1309, 276) → (1066, 276)\n"
     ]
    }
   ],
   "source": [
    "def remove_all_nan_rows(df):\n",
    "    nan_rows = df.iloc[:, 5:].isna().all(axis=1)\n",
    "    df_cleaned = df[~nan_rows]\n",
    "    return df_cleaned\n",
    "\n",
    "df_fdc_remove_missing = remove_all_nan_rows(df_fdc)\n",
    "print(f'{df_fdc.shape} → {df_fdc_remove_missing.shape}')"
   ]
  },
  {
   "cell_type": "code",
   "execution_count": 7,
   "metadata": {},
   "outputs": [
    {
     "name": "stdout",
     "output_type": "stream",
     "text": [
      "모든 값이 NaN인 행의 개수: 0\n"
     ]
    }
   ],
   "source": [
    "count_all_nan_rows(df_fdc_remove_missing)"
   ]
  },
  {
   "cell_type": "code",
   "execution_count": 8,
   "metadata": {},
   "outputs": [],
   "source": [
    "def get_columns_with_missing_values(df):\n",
    "    missing_values = df.isnull().sum()  \n",
    "    missing_columns = missing_values[missing_values > 0]\n",
    "    return missing_columns\n",
    "\n",
    "missing_columns = get_columns_with_missing_values(df_fdc_remove_missing)"
   ]
  },
  {
   "cell_type": "code",
   "execution_count": 9,
   "metadata": {},
   "outputs": [],
   "source": [
    "def remove_columns_with_missing_values(df, missing_columns):\n",
    "    df_cleaned = df.drop(columns=missing_columns.index)\n",
    "    return df_cleaned\n",
    "\n",
    "df_fdc_cleaned = remove_columns_with_missing_values(df_fdc_remove_missing, missing_columns)"
   ]
  },
  {
   "cell_type": "code",
   "execution_count": 10,
   "metadata": {},
   "outputs": [
    {
     "name": "stdout",
     "output_type": "stream",
     "text": [
      "빠진 숫자: ['ID_1231', 'ID_1233', 'ID_1239', 'ID_1241', 'ID_1244', 'ID_1245']\n"
     ]
    }
   ],
   "source": [
    "def get_no_image_list():\n",
    "    df_image = pd.read_excel('./data/raw/CO_IMAGE_DSS_반출.xlsx')\n",
    "    numbers = [int(x.split('_')[1]) for x in df_image.iloc[::2].values.flatten() if isinstance(x, str) and '_' in x]\n",
    "    missing_numbers = ['ID_' + str(num) for num in range(min(numbers), max(numbers) + 1) if num not in numbers]\n",
    "    print(\"빠진 숫자:\", missing_numbers)\n",
    "    return missing_numbers\n",
    "\n",
    "no_image_list = get_no_image_list()"
   ]
  },
  {
   "cell_type": "code",
   "execution_count": 11,
   "metadata": {},
   "outputs": [],
   "source": [
    "df_final = df_fdc_cleaned[~df_fdc_cleaned['ID'].isin(no_image_list)]\n",
    "df_final.to_csv('./data/fdc_data.csv', index=False)"
   ]
  },
  {
   "cell_type": "markdown",
   "metadata": {},
   "source": [
    "이미지 데이터 추출 및 배열 변환"
   ]
  },
  {
   "cell_type": "code",
   "execution_count": 11,
   "metadata": {},
   "outputs": [],
   "source": [
    "def get_image_filenames(image_folder, image_ids):\n",
    "    image_filenames = []\n",
    "    for image_id in image_ids:\n",
    "        image_path = os.path.join(image_folder, f\"{image_id}.png\")\n",
    "        if os.path.exists(image_path): \n",
    "            image_filenames.append(image_path) \n",
    "        else:\n",
    "            print(f\"파일을 찾을 수 없습니다: {image_id}\")\n",
    "    return image_filenames\n",
    "\n",
    "image_folder = './data/image'\n",
    "image_ids = df_final['ID']\n",
    "image_filenames = get_image_filenames(image_folder, image_ids)"
   ]
  },
  {
   "cell_type": "code",
   "execution_count": 12,
   "metadata": {},
   "outputs": [
    {
     "name": "stdout",
     "output_type": "stream",
     "text": [
      "image_filenames의 순서와 df_final['ID']의 순서가 모두 일치합니다.\n"
     ]
    }
   ],
   "source": [
    "def compare_image_order():\n",
    "    image_ids = [os.path.basename(filename).split('.')[0] for filename in image_filenames]\n",
    "    comparison_result = df_final['ID'].astype(str) == image_ids\n",
    "\n",
    "    if comparison_result.all():\n",
    "        print(\"image_filenames의 순서와 df_final['ID']의 순서가 모두 일치합니다.\")\n",
    "    else:\n",
    "        print(\"일치하지 않는 항목이 있습니다.\")\n",
    "        mismatch_indices = comparison_result[comparison_result == False].index\n",
    "        print(f\"일치하지 않는 인덱스: {mismatch_indices.tolist()}\")\n",
    "\n",
    "compare_image_order()"
   ]
  },
  {
   "cell_type": "code",
   "execution_count": 13,
   "metadata": {},
   "outputs": [],
   "source": [
    "def image_to_numpy(file_path):\n",
    "    image = Image.open(file_path).convert('L')  # Convert image to grayscale\n",
    "    image = image.resize((128, 128))\n",
    "    return np.array(image) / 255.0\n",
    "\n",
    "image_data = np.array([image_to_numpy(file) for file in image_filenames])"
   ]
  },
  {
   "cell_type": "code",
   "execution_count": 14,
   "metadata": {},
   "outputs": [],
   "source": [
    "np.save('./data/image_data', image_data)"
   ]
  }
 ],
 "metadata": {
  "kernelspec": {
   "display_name": "Python 3",
   "language": "python",
   "name": "python3"
  },
  "language_info": {
   "codemirror_mode": {
    "name": "ipython",
    "version": 3
   },
   "file_extension": ".py",
   "mimetype": "text/x-python",
   "name": "python",
   "nbconvert_exporter": "python",
   "pygments_lexer": "ipython3",
   "version": "3.12.3"
  }
 },
 "nbformat": 4,
 "nbformat_minor": 2
}
