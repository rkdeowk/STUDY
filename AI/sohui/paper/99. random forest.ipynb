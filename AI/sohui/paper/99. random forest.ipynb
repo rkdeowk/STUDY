{
 "cells": [
  {
   "cell_type": "code",
   "execution_count": 6,
   "metadata": {},
   "outputs": [],
   "source": [
    "import pandas as pd\n",
    "import numpy as np\n",
    "from sklearn.model_selection import train_test_split\n",
    "from sklearn.preprocessing import StandardScaler"
   ]
  },
  {
   "cell_type": "markdown",
   "metadata": {},
   "source": [
    "FDC 데이터 불러오기"
   ]
  },
  {
   "cell_type": "code",
   "execution_count": 7,
   "metadata": {},
   "outputs": [],
   "source": [
    "df_final = pd.read_csv('./data/fdc_data.csv')"
   ]
  },
  {
   "cell_type": "markdown",
   "metadata": {},
   "source": [
    "정규화"
   ]
  },
  {
   "cell_type": "code",
   "execution_count": 8,
   "metadata": {},
   "outputs": [],
   "source": [
    "scaler = StandardScaler()\n",
    "\n",
    "sensor_data = df_final.iloc[:,5:]\n",
    "sensor_data_scaled = scaler.fit_transform(sensor_data)\n",
    "df_sensor_scaled = pd.DataFrame(sensor_data_scaled, columns=sensor_data.columns)\n",
    "df_fdc_scaled = pd.concat([df_final.iloc[:,:5].reset_index(drop=True), df_sensor_scaled.reset_index(drop=True)], axis=1)"
   ]
  },
  {
   "cell_type": "markdown",
   "metadata": {},
   "source": [
    "라벨 추출"
   ]
  },
  {
   "cell_type": "code",
   "execution_count": 9,
   "metadata": {},
   "outputs": [],
   "source": [
    "labels = df_fdc_scaled['PASS(1)/FAIL(0)'].values\n",
    "labels = np.array(labels)"
   ]
  },
  {
   "cell_type": "code",
   "execution_count": 10,
   "metadata": {},
   "outputs": [],
   "source": [
    "SEED = 42"
   ]
  },
  {
   "cell_type": "code",
   "execution_count": 11,
   "metadata": {},
   "outputs": [],
   "source": [
    "fdc_train, fdc_temp, labels_train, labels_temp = train_test_split(\n",
    "    df_sensor_scaled, labels, test_size=0.2, random_state=SEED\n",
    ")\n",
    "\n",
    "fdc_val, fdc_test, labels_val, labels_test = train_test_split(\n",
    "    fdc_temp, labels_temp, test_size=0.25, random_state=SEED  # 0.25 of the remaining 20% = 5% of total\n",
    ")"
   ]
  },
  {
   "cell_type": "code",
   "execution_count": 12,
   "metadata": {},
   "outputs": [
    {
     "data": {
      "text/plain": [
       "((848, 216), (159, 216), (53, 216))"
      ]
     },
     "execution_count": 12,
     "metadata": {},
     "output_type": "execute_result"
    }
   ],
   "source": [
    "fdc_train.shape, fdc_val.shape, fdc_test.shape"
   ]
  },
  {
   "cell_type": "code",
   "execution_count": 25,
   "metadata": {},
   "outputs": [
    {
     "name": "stdout",
     "output_type": "stream",
     "text": [
      "Fitting 5 folds for each of 324 candidates, totalling 1620 fits\n",
      "Best Hyperparameters: {'class_weight': None, 'max_depth': None, 'max_features': 'log2', 'min_samples_leaf': 1, 'min_samples_split': 2, 'n_estimators': 500}\n",
      "Best F1 Score: 0.8360671975848177\n",
      "Accuracy: 0.679245\n",
      "Precision: 0.666667\n",
      "Recall: 0.866667\n",
      "F1 Score: 0.753623\n"
     ]
    }
   ],
   "source": [
    "from sklearn.ensemble import RandomForestClassifier\n",
    "from sklearn.metrics import accuracy_score, precision_score, recall_score, f1_score\n",
    "from sklearn.model_selection import GridSearchCV\n",
    "\n",
    "# 평가 함수 정의\n",
    "def print_result_classifier(y, pred):\n",
    "    accuracy = accuracy_score(y, pred)\n",
    "    precision = precision_score(y, pred)\n",
    "    recall = recall_score(y, pred)\n",
    "    f1 = f1_score(y, pred)\n",
    "    \n",
    "    print(f'Accuracy: {accuracy:.6f}')\n",
    "    print(f'Precision: {precision:.6f}')\n",
    "    print(f'Recall: {recall:.6f}')\n",
    "    print(f'F1 Score: {f1:.6f}')\n",
    "\n",
    "# 하이퍼파라미터 범위 설정\n",
    "param_grid = {\n",
    "    'n_estimators': [100, 500, 1000],          # 트리 개수\n",
    "    'max_depth': [None, 64, 128],              # 최대 깊이\n",
    "    'min_samples_split': [2, 5, 10],           # 노드 분할을 위한 최소 샘플 수\n",
    "    'min_samples_leaf': [1, 2, 4],             # 리프 노드의 최소 샘플 수\n",
    "    'max_features': ['sqrt', 'log2'],          # 각 분할에 사용할 특성 수\n",
    "    'class_weight': ['balanced', None]         # 클래스 가중치 (불균형 데이터 처리)\n",
    "}\n",
    "\n",
    "# RandomForestClassifier와 GridSearchCV 설정\n",
    "rf_classifier = RandomForestClassifier(random_state=0)\n",
    "grid_search = GridSearchCV(estimator=rf_classifier, param_grid=param_grid, \n",
    "                           scoring='f1', cv=5, verbose=2, n_jobs=-1)\n",
    "\n",
    "# 훈련 데이터에 대해 하이퍼파라미터 최적화\n",
    "grid_search.fit(fdc_train, labels_train)\n",
    "\n",
    "# 최적의 하이퍼파라미터와 성능 출력\n",
    "print(\"Best Hyperparameters:\", grid_search.best_params_)\n",
    "print(\"Best F1 Score:\", grid_search.best_score_)\n",
    "\n",
    "# 최적화된 모델로 테스트 데이터 예측 및 결과 출력\n",
    "best_rf_classifier = grid_search.best_estimator_\n",
    "y_pred_rf = best_rf_classifier.predict(fdc_test)\n",
    "print_result_classifier(labels_test, y_pred_rf)\n"
   ]
  },
  {
   "cell_type": "code",
   "execution_count": 26,
   "metadata": {},
   "outputs": [
    {
     "name": "stdout",
     "output_type": "stream",
     "text": [
      "Accuracy: 0.698113\n",
      "Precision: 0.666667\n",
      "Recall: 0.933333\n",
      "F1 Score: 0.777778\n"
     ]
    }
   ],
   "source": [
    "from sklearn.ensemble import RandomForestClassifier\n",
    "from sklearn.metrics import accuracy_score, precision_score, recall_score, f1_score\n",
    "\n",
    "def print_result_classifier(y, pred):\n",
    "    accuracy = accuracy_score(y, pred)\n",
    "    precision = precision_score(y, pred)\n",
    "    recall = recall_score(y, pred)\n",
    "    f1 = f1_score(y, pred)\n",
    "    \n",
    "    print(f'Accuracy: {accuracy:.6f}')\n",
    "    print(f'Precision: {precision:.6f}')\n",
    "    print(f'Recall: {recall:.6f}')\n",
    "    print(f'F1 Score: {f1:.6f}')\n",
    "\n",
    "# RandomForestClassifier로 변경\n",
    "rf_classifier = RandomForestClassifier(n_estimators=1000, random_state=0)\n",
    "rf_classifier.fit(fdc_train, labels_train)\n",
    "y_pred_rf = rf_classifier.predict(fdc_test)\n",
    "\n",
    "print_result_classifier(labels_test, y_pred_rf)"
   ]
  },
  {
   "cell_type": "code",
   "execution_count": 28,
   "metadata": {},
   "outputs": [
    {
     "name": "stdout",
     "output_type": "stream",
     "text": [
      "0의 개수: 363\n",
      "1의 개수: 697\n"
     ]
    }
   ],
   "source": [
    "# 0과 1의 개수를 계산\n",
    "unique, counts = np.unique(labels, return_counts=True)\n",
    "label_counts = dict(zip(unique, counts))\n",
    "\n",
    "print(f\"0의 개수: {label_counts.get(0, 0)}\")\n",
    "print(f\"1의 개수: {label_counts.get(1, 0)}\")"
   ]
  },
  {
   "cell_type": "code",
   "execution_count": 36,
   "metadata": {},
   "outputs": [
    {
     "name": "stdout",
     "output_type": "stream",
     "text": [
      "0의 개수: 23\n",
      "1의 개수: 30\n"
     ]
    }
   ],
   "source": [
    "# 0과 1의 개수를 계산\n",
    "unique2, counts2 = np.unique(labels_test, return_counts=True)\n",
    "label_counts2 = dict(zip(unique2, counts2))\n",
    "\n",
    "print(f\"0의 개수: {label_counts2.get(0, 0)}\")\n",
    "print(f\"1의 개수: {label_counts2.get(1, 0)}\")"
   ]
  }
 ],
 "metadata": {
  "kernelspec": {
   "display_name": "Python 3",
   "language": "python",
   "name": "python3"
  },
  "language_info": {
   "codemirror_mode": {
    "name": "ipython",
    "version": 3
   },
   "file_extension": ".py",
   "mimetype": "text/x-python",
   "name": "python",
   "nbconvert_exporter": "python",
   "pygments_lexer": "ipython3",
   "version": "3.12.3"
  }
 },
 "nbformat": 4,
 "nbformat_minor": 2
}
