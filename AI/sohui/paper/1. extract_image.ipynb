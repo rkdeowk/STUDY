{
 "cells": [
  {
   "cell_type": "code",
   "execution_count": 13,
   "metadata": {},
   "outputs": [],
   "source": [
    "import pandas as pd"
   ]
  },
  {
   "cell_type": "code",
   "execution_count": 14,
   "metadata": {},
   "outputs": [],
   "source": [
    "df_fdc = pd.read_excel('./data/raw/Sensor_DATA_DSS_반출.xlsx')\n",
    "df_image = pd.read_excel('./data/raw/CO_IMAGE_DSS_반출.xlsx')"
   ]
  },
  {
   "cell_type": "code",
   "execution_count": 15,
   "metadata": {},
   "outputs": [
    {
     "name": "stdout",
     "output_type": "stream",
     "text": [
      "fdc = (1309, 276), image = (435, 6)\n"
     ]
    }
   ],
   "source": [
    "print(f'fdc = {df_fdc.shape}, image = {df_image.shape}')"
   ]
  },
  {
   "cell_type": "code",
   "execution_count": 16,
   "metadata": {},
   "outputs": [],
   "source": [
    "import zipfile\n",
    "import os\n",
    "\n",
    "def extract_images_with_ids(excel_file, output_folder):\n",
    "    df = pd.read_excel(excel_file, header=None)\n",
    "\n",
    "    with zipfile.ZipFile(excel_file, 'r') as z:\n",
    "        file_list = z.namelist()\n",
    "        image_files = [f for f in file_list if f.startswith('xl/media/')]\n",
    "        image_file_index = 0\n",
    "        for i in range(1, len(df), 2):  # 홀수 행 (0-based index: row 1, row 3, ...)\n",
    "            id_row = df.iloc[i]  # 아이디가 있는 행\n",
    "            image_row = df.iloc[i - 1]  # 해당 아이디의 이미지가 있는 행\n",
    "\n",
    "            for col_index in range(len(id_row)):\n",
    "                if pd.isna(id_row[col_index]):  # 아이디가 없는 셀은 건너뜀\n",
    "                    continue\n",
    "                \n",
    "                if image_file_index >= len(image_files):  # 이미지 파일이 더 이상 없으면 종료\n",
    "                    print(\"No more images to process.\")\n",
    "                    return\n",
    "\n",
    "                id_value = id_row[col_index]  # 아이디 값 추출\n",
    "                image_filename = f\"{id_value}.png\"\n",
    "                image_output_path = os.path.join(output_folder, image_filename)\n",
    "\n",
    "                with open(image_output_path, 'wb') as f:\n",
    "                    f.write(z.read(image_files[image_file_index]))\n",
    "\n",
    "                image_file_index += 1  # 다음 이미지로 이동\n",
    "\n",
    "# 이미지 추출할 엑셀 파일과 이미지 저장할 폴더 경로\n",
    "excel_file = './data/raw/CO_IMAGE_DSS_반출.xlsx'\n",
    "output_folder = './data/image'\n",
    "\n",
    "# 이미지 추출 함수 실행\n",
    "extract_images_with_ids(excel_file, output_folder)"
   ]
  }
 ],
 "metadata": {
  "kernelspec": {
   "display_name": "Python 3",
   "language": "python",
   "name": "python3"
  },
  "language_info": {
   "codemirror_mode": {
    "name": "ipython",
    "version": 3
   },
   "file_extension": ".py",
   "mimetype": "text/x-python",
   "name": "python",
   "nbconvert_exporter": "python",
   "pygments_lexer": "ipython3",
   "version": "3.12.3"
  }
 },
 "nbformat": 4,
 "nbformat_minor": 2
}
