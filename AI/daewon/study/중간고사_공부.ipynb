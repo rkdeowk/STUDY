{
 "cells": [
  {
   "cell_type": "code",
   "execution_count": null,
   "metadata": {},
   "outputs": [],
   "source": [
    "import numpy as np\n",
    "import pandas as pd\n",
    "import scipy as sp\n",
    "import matplotlib.pyplot as plt\n",
    "import seaborn as sns"
   ]
  },
  {
   "cell_type": "code",
   "execution_count": null,
   "metadata": {},
   "outputs": [],
   "source": [
    "# 인공지능 (규칙 기반) > 머신러닝 (데이터 기반) > 딥러닝 (신경망)\n",
    "# 머신러닝: 지도학습, 비지도학습, 강화학습 (데이터 속에서 정보 발견)\n",
    "# 지도학습: 타겟 데이터 O, 채점 가능\n",
    "# 비지도학습: 타겟 데이터 X, 채점 불가\n",
    "# 강화학습: 환경 및 규칙에 대해 완벽하게 알아야 함, Action과 Reward\n",
    "# Labeling: 타겟 데이터 이름표 붙이는 작업\n",
    "# 분류: 문자형, 범주형, 오차 용납 X, ex. 양품/불량\n",
    "# 예측: 숫자형, 연속형, 오차 용납 O, ex. 1/2/3\n",
    "# 데이터 퀄리티 중요 (중복 되는 데이터 or 무의미한 데이터는 제거해서 학습 퀄리티 높임)\n",
    "# 머신러닝의 한계: 외부 정보 반영 어려움\n",
    "\n",
    "# dataframe 열이름/변수명/필드명, 레코드/관측치\n",
    "# 인코딩: 컴퓨터가 읽을 수 있게 변환\n",
    "# 디코딩: 인간이 읽을 수 있게 변환\n",
    "\n",
    "# sigma/pi/factorial/combination/indicator\n",
    "# e/min/argmin/max/argmax\n",
    "# 극한: x->a, lim f(x)->L, x가 a와 다른 값이며 a에 가까워짐에 따라 f(x) 값이 L에 가까워지면 f(x)는 L에 수렴 (좌극한과 우극한 일치)\n",
    "# 평균 변화율: (f(b)-f(a))/(b-a), lim x->0 (f(x)-f(a))/(x-a)\n",
    "# 미분 불가능: 뾰족하거나 끊어지거나 좌극한과 우극한이 다름\n",
    "# 부분적분 : ∫f(x)g'(x) = f(x)g(x)-∫f'(x)g(x)"
   ]
  },
  {
   "cell_type": "code",
   "execution_count": null,
   "metadata": {},
   "outputs": [],
   "source": [
    "df = pd.read_csv('./data/performance.csv', encoding='cp949')\n",
    "df['TOTAL_PRICE'] = df['ACHIEVEMENT'] + df['ABILITY'] + df['ATTITUDE']\n",
    "df.drop('TOTAL_PRICE', axis=1, inplace=True)"
   ]
  },
  {
   "cell_type": "code",
   "execution_count": null,
   "metadata": {},
   "outputs": [],
   "source": [
    "df = pd.read_csv('./data/house_prices.csv', encoding='cp949')"
   ]
  },
  {
   "cell_type": "code",
   "execution_count": null,
   "metadata": {},
   "outputs": [],
   "source": [
    "A = np.array([[1, 2], [3, 4]])\n",
    "B = np.array([[5, 6], [7, 8]])\n",
    "C = np.concatenate((A, B), axis=0) # pd.concat(A, B, axis=0)"
   ]
  },
  {
   "cell_type": "code",
   "execution_count": null,
   "metadata": {},
   "outputs": [],
   "source": [
    "# 스벡확행, 스칼라/벡터/확률변수/행렬식 (소문자, 소문자 볼드, 대문자, 대문자 볼드)\n",
    "# 대각행렬: 대각성분을 제외한 나머지 모든 성분이 0\n",
    "# 단위행렬: 항등행렬이라 불리며 대각성분이 1인 대각행렬\n",
    "# 삼각행렬: 상/하 삼각행렬\n",
    "# 행렬식: 정사각 행렬을 스칼라로 변환 (정사각 행렬만 해당)\n",
    "# 3차원 이상의 행렬식은 부피이며, 한개라도 선형 종속이 있으면 (동일 기저 벡터가 있으면) 행렬식은 0\n",
    "# 행렬식 0이면 역행렬이 존재하지 않아 해가 무수히 많거나 없다\n",
    "# 역행렬: 존재 O (det≠0, nonsingular matrix), 존재 X (det=0, singular matrix)\n",
    "# cos = uv/(|u||v|) -> (uv: core function |u||v|: scaler function)\n",
    "# 정규 직교 벡터: 직교하면서 크기가 1인 벡터\n",
    "# 단위 벡터: 길이가 1인 벡터\n",
    "# 선형 변환: 2차원 벡터를 3차원 벡터로 ex. ([2, 1], [0, 3], [2, 0])*(2, 1) = ([5], [3], [4]), (3*2)*(2x1)=(3x1)\n",
    "# 선형 독립: 선형 조합으로 표현 불가, 선형 종속: 선형 조합 표현 가능\n",
    "# 기저: 벡터 공간을 생성하는 선형 독립인 벡터들\n",
    "# 기저 조건: 1) 기저가 공간 S 생성, 2) 선형 독립\n",
    "# 기저는 항상 직교일 필요 X, 유일하지 X\n",
    "# 기저 성질: n차원 벡터공간 S에서\n",
    "#   n개가 넘는 벡터가 만드는 집합은 선형 종속\n",
    "#   n개 미만의 벡터가 만드는 집합은 벡터공간 S 생성 불가\n",
    "#   벡터공간의 모든 기저 벡터의 개수는 동일\n",
    "# 차원: 기저 벡터의 개수/0이 아닌 값을 가지는 고유값의 수\n",
    "# 랭크: 행공간과 열공간의 공통 차원, min(열 개수, 행 개수), full rank: 최대 가질 수 있는 차원\n",
    "# 영 공간(null space): Ax=0 을 만족하는 모든 벡터 X의 집합\n",
    "# nullity: 영 공간의 차원\n",
    "# 행공간과 열공간의 성질\n",
    "#  기본 행 연산은 행렬의 영공간 변화 X\n",
    "#  기본 행 연산은 행렬의 행공간 변화 X\n",
    "#  행렬 A의 행공간과 열공간의 차원은 동일\n",
    "# 고유벡터: 기저, 반드시 직교하지 않음, 대칭행렬의 고유벡터는 직교함\n",
    "# 고유값: 고유벡터의 크기, 클 수록 더 많은 정보를 담음\n",
    "# 대각화: D = P-1AP 행렬을 대각행렬로 만드는 것 (가역행렬 P가 존재해야 함, P가 직교행렬이면 직교 대각화 가능, P는 고유벡터, A는 고유값으로 만든 행렬)\n",
    "# 고유값 분해: 직교 대각화의 한 종류, A = PDPt (P 직교행렬이라 P-1은 전치행렬, 직교행렬의 역행렬은 전치행렬)\n",
    "# 특이값 분해: 기존 차원(3)보다 작은 차원(2) 부분 공간을 찾는 문제, 특이값 = sqrt(고유값)"
   ]
  },
  {
   "cell_type": "code",
   "execution_count": null,
   "metadata": {},
   "outputs": [],
   "source": [
    "X = df[['CRIM', 'NOX', 'RM', 'AGE', 'TAX']]\n",
    "X_t = X.T\n",
    "XtX = X_t@X\n",
    "XtX_dt = np.linalg.det(XtX)\n",
    "XtX_inv = np.linalg.inv(XtX)"
   ]
  },
  {
   "cell_type": "code",
   "execution_count": null,
   "metadata": {},
   "outputs": [],
   "source": [
    "res = np.inner(df['CRIM'], df['NOX'])"
   ]
  },
  {
   "cell_type": "code",
   "execution_count": null,
   "metadata": {},
   "outputs": [],
   "source": [
    "cov_x = X_t@X\n",
    "e, v = np.linalg.eig(cov_x)\n",
    "u, s, vt = np.linalg.svd(cov_x)\n",
    "u2, s2, vt2 = np.linalg.svd(X)\n",
    "\n",
    "singular, nonsingular = np.square(s2), s"
   ]
  },
  {
   "cell_type": "code",
   "execution_count": null,
   "metadata": {},
   "outputs": [],
   "source": [
    "# 확률변수: 확률 현상을 통해 값이 확률적으로 정해지는 변수\n",
    "# 이론적 확률 (이론적, 미래) vs 경험적 확률 (경험적, 과거)\n",
    "# 확률: 어떤 사건이 발생할 가능성을 수치화 시킨 것으로 0 ~ 1 값을 가짐\n",
    "# 공리적 정의: 1) 0<=P(A)<=1, 2) P(Ω)=1, 3) A1, A2.. 상호 배반 사건이면, P(U(Ai)) = Σ(P(Ai)). U: 전체 집합(표본 공간)\n",
    "# 확률의 독립: P(A∩B)=P(A)P(B)\n",
    "# 확률의 배반: P(A∩B)=0\n",
    "# 조건부 확률: P(Y|X)=P(X|Y)*P(Y)/P(X), P(Y): 사전확률(균일분포), P(Y|X): 사후확률(베타분포)\n",
    "# 평균 (location parameter), 분산 & 표준편차 (scale parameter)\n",
    "# 자유도: numpy(ddof=0), pandas(ddof=1)\n",
    "# 모집단: 관심대상 전체 집합\n",
    "# 모수: 모집단의 특성을 나타내는 대표값, μ(모평균), σ(모표준편차), σ2(모분산)\n",
    "# 표본: 모집단의 부분 집합, x(표본평균), s(표본표준편차), s2(표본분산)\n",
    "# 상관관계: 양/음/없음, 범위 무제한\n",
    "#   Cov(X,Y) = E[(X-μx)(Y-μy)], 모공분산\n",
    "#   Cov(X,Y) = 1/(n-1)*Σ(xi-x)(yi-y), 표본공분산\n",
    "#   Cov(X) = 1/(n-1)*XtX (if 표준화)\n",
    "# 피어슨 상관계수: Corr(X,Y)=Cov(X,Y)/(σx*σy), -1<=Corr(X,Y)<=1, 0.6, -0.6 기준 강한 상관 관계\n",
    "# 상관관계 O → 인과관계 O ? XXXX"
   ]
  },
  {
   "cell_type": "code",
   "execution_count": null,
   "metadata": {},
   "outputs": [],
   "source": [
    "cov_x = np.cov(X, rowvar=0)\n",
    "cov_x = np.cov(X.T)\n",
    "cov_x = X.cov()\n",
    "\n",
    "corr_x = np.corrcoef(X.T)\n",
    "corr_x = X.corr()"
   ]
  },
  {
   "cell_type": "code",
   "execution_count": null,
   "metadata": {},
   "outputs": [],
   "source": [
    "# 데이터 수가 많아지면 정규분포를 따른다 X\n",
    "# 확률분포: 확률변수가 특정한 값을 가직 확률을 나타내는 함수\n",
    "# 이산확률분포(셀수 O), 연속확률분포(셀수 X)\n",
    "# 확률질량함수: 이산확률변수에서 특정 값에 대한 확률을 나타내는 함수\n",
    "# 확률밀도함수: 연속확률변수에서 특정 구간에 포함될 확률을 나타내는 함수\n",
    "# 누적분포함수: 주어진 확률변수가 특정 값보다 작거나 같을 확률 (이산: 계단모양, 연속: 연속)\n",
    "\n",
    "# 이산형 확률 분포\n",
    "#   균일분포: 사전 확률 [확률변수가 특정 값을 가질 확률이 모두 동일한 분포, X~U(1,N)]\n",
    "#   베르누이분포: 1회 시행, 성공 횟수  [0 or 1, 한번 시행했을때 성공 횟수]\n",
    "#   이항분포: n번 시행, 성공 횟수 (정규 분포) [0~n, 독립적으로 베르누이 시행을 n번 한 경우의 총 성공 횟수]\n",
    "#   포아송분포: 단위 시간 동안 성공 횟수 (정규 분포) [0~inf, 단위 시간 동안 이벤트 발생 횟수]\n",
    "#   기하분포: 첫 성공까지의 시도 횟수 [Y=X-1, Y: 실패횟수, X: 시도횟수, X가 시도횟수기 때문에 1부터 시작, C가 없는 이유는 성공하면 바로 끝이기 때문]\n",
    "\n",
    "# 연속형 확률 분포\n",
    "#   균일분포\n",
    "#   정규분포: 표준정규분포: 평균 0, 분산 1 [X~N(μ, σ2), 표본정규분포: X~N(0, 1)]\n",
    "#   감마분포: a번째 사건이 발생할때까지의 대기시간의 분포 [0~inf]\n",
    "#   지수분포: a=1인 감마분포 [0~inf]\n",
    "#   카이제곱분포: a=p/2, b=2인 감마분포\n",
    "#   베타분포: 0~1 [사후확률]"
   ]
  },
  {
   "cell_type": "code",
   "execution_count": null,
   "metadata": {},
   "outputs": [],
   "source": [
    "size = 10000\n",
    "\n",
    "# 이산형 확률분포\n",
    "\n",
    "# 균일 분포\n",
    "x = np.random.randint(low=1, high=6, size=size)\n",
    "# 베르누이 분포\n",
    "x = np.random.binomial(n=1, p=1/3, size=size)\n",
    "# 이항 분포\n",
    "x = np.random.binomial(n=10, p=1/3, size=size)\n",
    "# 포아송 분포\n",
    "x = np.random.poisson(lam=2, size=size)\n",
    "# 기하 분포\n",
    "x = np.random.geometric(p=1/3, size=size)"
   ]
  },
  {
   "cell_type": "code",
   "execution_count": null,
   "metadata": {},
   "outputs": [],
   "source": [
    "# 연속형 확률분포\n",
    "\n",
    "# 균일 분포\n",
    "x = np.random.uniform(low=1, high=6, size=size)\n",
    "# 정규분포\n",
    "x = np.random.normal(loc=60, scale=6, size=size)\n",
    "# 감마분포\n",
    "x = np.random.gamma(shape=2, scale=3, size=size)\n",
    "# 지수분포\n",
    "x = np.random.exponential(scale=2, size=size)\n",
    "# 카이제곱분포\n",
    "x = np.random.chisquare(df=3, size=size)\n",
    "# 베타분포\n",
    "x = np.random.beta(a=2, b=3, size=size)"
   ]
  },
  {
   "cell_type": "code",
   "execution_count": null,
   "metadata": {},
   "outputs": [],
   "source": [
    "# MLE (Maximum Likelihood Estimator): 데이터가 있는데 이 데이터가 어떤 분포에서 나왔는지 추정\n",
    "# L(θ|x) = Π(f(xi|θ)), θ: 모수, x: 데이터, L: 가능도함수, xi: i번째 데이터\n",
    "#    동시에 n개의 x 데이터를 얻기 위해 곱함\n",
    "# argmax(L(θ|x)) = argmax(Π(f(xi|θ))) → 최대값일때의 θ 구하는 것\n",
    "# 로그 취함, log(L(θ|x)) = log(Π(f(xi|θ))) = Σ(f(xi|θ))\n",
    "#    로그함수는 1대1함수이므로 성질 변하지 않음\n",
    "#    빅데이터에 적용하면 가능도 함수는 0에 수렴함으로 오류 발생 가능성 존재\n",
    "\n",
    "# MAP (Maximum A Posterior): 사후 확률 밀도 함수 최대화 하기"
   ]
  },
  {
   "cell_type": "code",
   "execution_count": null,
   "metadata": {},
   "outputs": [],
   "source": [
    "# 두 집단 간 차이\n",
    "# 귀무가설(H0): 두 집단 간 차이가 없다 [H0: μ1=μ2]\n",
    "# 대립가설(H1)\n",
    "#   양측검정: 두 집단 간 차이가 있다   [H1: μ1≠μ2]\n",
    "#   단측검정: A 집단이 B집단보다 크다  [H1: μ1>μ2]\n",
    "# 가설검정: 가설 세우고, 검정통계량 구하고, 결론 내림\n",
    "# p-value: 귀무가설 참일때, 표본데이터가 수집될 확률, p-value가 낮을수록 대립가설 채택, 유의수준(a)은 0.05 (통상) or 0.01 선택\n",
    "#         H0 채택       H1 채택\n",
    "# H0 참      O          1종 오류\n",
    "# H1 참   2종 오류         O\n",
    "\n",
    "# 가설 검정 → 정규성 검정 → 데이터 개수 → z-test (30개 이상)\n",
    "#                                     → t-test\n",
    "#                        → 순위합 검정\n",
    "\n",
    "# 세 집단 평균 차이 검정\n",
    "# 총 오차 = 집단 내 오차 + 집단 간 오차\n",
    "# 집단 내 오차 = 각 데이터 값 - 집단 평균\n",
    "# 집단 간 오차 = 각 집단 평균 - 전체 평균\n",
    "# 집단 간 오차 > 집단 내 오차 → 집단 간 평균 차이가 있다\n",
    "# F 통계량 = ((집단 간 오차)/(집단 개수-1))/(집단 내 오차/(전체 데이터 수-집단 개수))"
   ]
  },
  {
   "cell_type": "code",
   "execution_count": null,
   "metadata": {},
   "outputs": [],
   "source": [
    "df = pd.read_csv('./data/performance.csv', encoding='cp949')\n",
    "df_a = df[df['TEAM']=='A']['ACHIEVEMENT']\n",
    "df_b = df[df['TEAM']=='B']['ACHIEVEMENT']\n",
    "df_c = df[df['TEAM']=='C']['ACHIEVEMENT']\n",
    "df_d = df[df['TEAM']=='D']['ACHIEVEMENT']\n",
    "df_e = df[df['TEAM']=='E']['ACHIEVEMENT']"
   ]
  },
  {
   "cell_type": "code",
   "execution_count": null,
   "metadata": {},
   "outputs": [],
   "source": [
    "# A, B 집단 평균 차이 검정\n",
    "df_a_mean = np.mean(df_a)\n",
    "df_b_mean = np.mean(df_b)\n",
    "print(df_a_mean, df_b_mean)\n",
    "print('\\nTeam B의 평균 성과점수가 Team A의 평균 성과점수보다 높음\\n')\n",
    "print('H0: Team A의 평균 성과점수는 Team B의 평균 성과점수와 차이가 없다')\n",
    "print('H1: Team B의 평균 성과점수는 Team A의 평균 성과점수보다 높다\\n')\n",
    "\n",
    "test_stat, p = sp.stats.shapiro(df_a)\n",
    "print(f'Team A 정규성 검증 검정통계량: {test_stat}, p-value: {p}')\n",
    "test_stat, p = sp.stats.shapiro(df_b)\n",
    "print(f'Team B 정규성 검증 검정통계량: {test_stat}, p-value: {p}\\n')\n",
    "print('Team B 검정 통계량 p-value 값이 0.05 미만이므로 H1 채택, 즉 정규성을 따르지 않음으로 순위합 검정 진행\\n')\n",
    "\n",
    "test_stat, p = sp.stats.ranksums(df_b, df_a, alternative='greater')\n",
    "print(f'순위합 검증 검정통계량: {test_stat}, p-value: {p}\\n')\n",
    "print('순위합 검정 결과 p-value 값이 0.05 초과했으므로 H0 채택\\n즉, Team A 평균 성과점수는 Team B 평균 성과점수와 차이가 없다')\n",
    "\n",
    "z_u = df_b_mean-df_a_mean\n",
    "z_l = ((np.var(df_a)/len(df_a))+(np.var(df_b)/len(df_b)))**0.5\n",
    "z_value = z_u/z_l\n",
    "z_dist = sp.stats.norm(0, 1)\n",
    "p_value = 1-z_dist.cdf(z_value)\n",
    "\n",
    "test_stat, p = sp.stats.ttest_ind(df_b, df_a, alternative='greater')"
   ]
  }
 ],
 "metadata": {
  "kernelspec": {
   "display_name": "Python 3",
   "language": "python",
   "name": "python3"
  },
  "language_info": {
   "codemirror_mode": {
    "name": "ipython",
    "version": 3
   },
   "file_extension": ".py",
   "mimetype": "text/x-python",
   "name": "python",
   "nbconvert_exporter": "python",
   "pygments_lexer": "ipython3",
   "version": "3.11.1"
  }
 },
 "nbformat": 4,
 "nbformat_minor": 2
}
