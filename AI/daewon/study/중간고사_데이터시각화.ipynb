{
 "cells": [
  {
   "cell_type": "code",
   "execution_count": null,
   "metadata": {},
   "outputs": [],
   "source": [
    "import numpy as np\n",
    "import pandas as pd\n",
    "import matplotlib.pyplot as plt\n",
    "import seaborn as sns\n",
    "import plotly.express as px\n",
    "import datetime"
   ]
  },
  {
   "cell_type": "code",
   "execution_count": null,
   "metadata": {},
   "outputs": [],
   "source": [
    "df1 = pd.read_csv('./data/sales1.csv', encoding='cp949')\n",
    "df2 = pd.read_csv('./data/sales2.csv', encoding='cp949')\n",
    "df3 = pd.read_csv('./data/sales3.csv', encoding='cp949')"
   ]
  },
  {
   "cell_type": "code",
   "execution_count": null,
   "metadata": {},
   "outputs": [],
   "source": [
    "df3 = df3.fillna(0)\n",
    "df3['PAYMENT'] = df3['PAYMENT'].str.strip()"
   ]
  },
  {
   "cell_type": "code",
   "execution_count": null,
   "metadata": {},
   "outputs": [],
   "source": [
    "df12_inner = pd.merge(df1, df2, on='ORDERID', how='inner')\n",
    "df12_left = pd.merge(df1, df2, on='ORDERID', how='left')\n",
    "df = pd.merge(df12_left, df3, on='ORDERID', how='left')"
   ]
  },
  {
   "cell_type": "code",
   "execution_count": null,
   "metadata": {},
   "outputs": [],
   "source": [
    "df001 = pd.DataFrame([['철원', 3], ['혁진', 7]], columns=['name', 'number'])\n",
    "df002 = pd.DataFrame([['예인', 9], ['솔이', 8]], columns=['name', 'number'])\n",
    "df003 = pd.concat([df001, df002])\n",
    "df004 = df003.reset_index()\n",
    "df005 = pd.concat([df001, df002], ignore_index=True)\n",
    "df006 = pd.DataFrame([['피아노', '강사'], ['노래', '매니저']], columns=['hobby', 'job'])\n",
    "df007 = pd.concat([df001, df006], axis=1)\n",
    "df008 = df[['UNIT_PRICE', 'QUANTITY']]"
   ]
  },
  {
   "cell_type": "code",
   "execution_count": null,
   "metadata": {},
   "outputs": [],
   "source": [
    "unit = df[df['UNIT_PRICE']>50]\n",
    "seoul = df[df['CITY']=='Seoul']\n",
    "unit_seoul = df[(df['UNIT_PRICE']>50)&(df['CITY']=='Seoul')]"
   ]
  },
  {
   "cell_type": "code",
   "execution_count": null,
   "metadata": {},
   "outputs": [],
   "source": [
    "df['PRICE_N_MILEAGE'] = df['TOTAL_PRICE'] + df['MILEAGE']\n",
    "df.drop('PRICE_N_MILEAGE', axis=1, inplace=True)"
   ]
  },
  {
   "cell_type": "code",
   "execution_count": null,
   "metadata": {},
   "outputs": [],
   "source": [
    "df['GRADE'] = ''\n",
    "for i in range(len(df)):\n",
    "    total_price = df['TOTAL_PRICE'][i]\n",
    "    if total_price < 200:\n",
    "        df.loc[i, 'GRADE'] = 'NORMAL'\n",
    "    elif 200 <= total_price < 500:\n",
    "        df.loc[i, 'GRADE'] = 'VIP'\n",
    "    else:\n",
    "        df.loc[i, 'GRADE'] = 'VVIP'"
   ]
  },
  {
   "cell_type": "code",
   "execution_count": null,
   "metadata": {},
   "outputs": [],
   "source": [
    "now = datetime.datetime.now()\n",
    "now.strftime('%Y-%m-%d %H:%M:%S')\n",
    "now-datetime.timedelta(minutes=20)\n",
    "\n",
    "df['DATE'] = pd.to_datetime(df['DATE'], format='%m/%d/%Y')\n",
    "\n",
    "xmas = datetime.datetime.strptime('2024-12-25', '%Y-%m-%d').date()\n",
    "df['TO_XMAS'] = (xmas-df['DATE'].dt.date).astype(str).str[:5].astype(int)"
   ]
  },
  {
   "cell_type": "code",
   "execution_count": null,
   "metadata": {},
   "outputs": [],
   "source": [
    "df010 = df.sort_values('PURCHASE_TIME', ascending=True)\n",
    "df011 = df.sort_values('PURCHASE_TIME', ascending=False)"
   ]
  },
  {
   "cell_type": "code",
   "execution_count": null,
   "metadata": {},
   "outputs": [],
   "source": [
    "df.groupby('GENDER')['TOTAL_PRICE'].mean(), df.groupby('GENDER', as_index=False)['TOTAL_PRICE'].mean()"
   ]
  },
  {
   "cell_type": "code",
   "execution_count": null,
   "metadata": {},
   "outputs": [],
   "source": [
    "table1 = pd.crosstab(df['GENDER'], df['CITY'])\n",
    "table2 = pd.crosstab(df['GENDER'], df['CITY'], normalize='index')\n",
    "table3 = pd.crosstab(df['GENDER'], df['CITY'], normalize='columns')\n",
    "table4 = pd.crosstab(df['GENDER'], df['CITY'], margins=True)\n",
    "table5 = pd.crosstab(df['GENDER'], df['CITY'], normalize='all')"
   ]
  },
  {
   "cell_type": "code",
   "execution_count": null,
   "metadata": {},
   "outputs": [],
   "source": [
    "pivot1 = df.pivot_table(index='GENDER', columns='CITY', values='TOTAL_PRICE', aggfunc='sum')\n",
    "pivot2 = df.pivot_table(index='GENDER', columns='CITY', values='TOTAL_PRICE', aggfunc='mean')\n",
    "pivot3 = df.pivot_table(index='GENDER', columns='CITY', values='TOTAL_PRICE', aggfunc='median')"
   ]
  },
  {
   "cell_type": "code",
   "execution_count": null,
   "metadata": {},
   "outputs": [],
   "source": [
    "df = pd.DataFrame([\n",
    "    [42, 'male', 12, 'reading', 1],\n",
    "    [35, 'female', 3, 'cooking', 0],\n",
    "    [27, 'female', 7, 'cycling', 2],\n",
    "    [56, 'male', 21, 'swimming', 0]\n",
    "], columns=['age', 'gender', 'month_birth', 'hobby', 'target'])\n",
    "\n",
    "df_oh = pd.get_dummies(df, dtype=float)\n",
    "# pd.get_dummies(df['hobby'], dtype=float)"
   ]
  },
  {
   "cell_type": "code",
   "execution_count": null,
   "metadata": {},
   "outputs": [],
   "source": [
    "df = pd.read_csv('./data/sales.csv', encoding='cp949')"
   ]
  },
  {
   "cell_type": "code",
   "execution_count": null,
   "metadata": {},
   "outputs": [],
   "source": [
    "plt.hist(df['TOTAL_PRICE'], color='green', bins=20)\n",
    "plt.show()"
   ]
  },
  {
   "cell_type": "code",
   "execution_count": null,
   "metadata": {},
   "outputs": [],
   "source": [
    "man_price = df[df['GENDER']=='Male']['TOTAL_PRICE']\n",
    "woman_price = df[df['GENDER']=='Female']['TOTAL_PRICE']\n",
    "\n",
    "plt.hist(man_price, bins=20, color='cornflowerblue', alpha=0.4, edgecolor='black', linewidth=1, label='man')\n",
    "plt.hist(woman_price, bins=20, color='coral', alpha=0.4, edgecolor='black', linewidth=1, label='woman')\n",
    "plt.xlabel('Total price');plt.ylabel('Count');plt.legend();plt.show()"
   ]
  },
  {
   "cell_type": "code",
   "execution_count": null,
   "metadata": {},
   "outputs": [],
   "source": [
    "category_counts = df['CITY'].value_counts()\n",
    "plt.bar(x=category_counts.index, height=category_counts, color=['red', 'blue', 'orange']);plt.show()"
   ]
  },
  {
   "cell_type": "code",
   "execution_count": null,
   "metadata": {},
   "outputs": [],
   "source": [
    "city_gender = pd.crosstab(df['CITY'], df['GENDER'])\n",
    "\n",
    "plt.bar(x=city_gender.index, height=city_gender['Male'], color='paleturquoise', label='Male')\n",
    "plt.bar(x=city_gender.index, height=city_gender['Female'], color='lightcoral', label='female', bottom=city_gender['Male'])\n",
    "plt.xticks(rotation=45);plt.legend();plt.show()"
   ]
  },
  {
   "cell_type": "code",
   "execution_count": null,
   "metadata": {},
   "outputs": [],
   "source": [
    "city_price = df.groupby('CITY')['TOTAL_PRICE'].mean()"
   ]
  },
  {
   "cell_type": "code",
   "execution_count": null,
   "metadata": {},
   "outputs": [],
   "source": [
    "plt.bar(x=city_gender.index, height=city_gender['Male'], color='paleturquoise', label='Male')\n",
    "plt.bar(x=city_gender.index, height=city_gender['Female'], color='lightcoral', label='female', bottom=city_gender['Male'])\n",
    "plt.plot(city_gender.index, city_price, '^-')\n",
    "plt.xticks(rotation=45);plt.legend();plt.show()"
   ]
  },
  {
   "cell_type": "code",
   "execution_count": null,
   "metadata": {},
   "outputs": [],
   "source": [
    "fig, ax = plt.subplots()\n",
    "bar1 = plt.bar(x=city_gender.index, height=city_gender['Male'], color='paleturquoise', label='Male')\n",
    "bar2 = plt.bar(x=city_gender.index, height=city_gender['Female'], color='lightcoral', label='female', bottom=city_gender['Male'])\n",
    "ax.bar_label(bar1, label_type='center')\n",
    "ax.bar_label(bar2, label_type='center')\n",
    "plt.xticks(rotation=45);plt.legend();plt.show()"
   ]
  },
  {
   "cell_type": "code",
   "execution_count": null,
   "metadata": {},
   "outputs": [],
   "source": [
    "city_gender2 = pd.crosstab(df['CITY'], df['GENDER'], normalize='index')\n",
    "city_gender2 = city_gender2.round(decimals=3)*100"
   ]
  },
  {
   "cell_type": "code",
   "execution_count": null,
   "metadata": {},
   "outputs": [],
   "source": [
    "fig, ax = plt.subplots()\n",
    "bar1 = plt.bar(city_gender2.index, city_gender2['Male'], color='paleturquoise', label='Male')\n",
    "bar2 = plt.bar(city_gender2.index, city_gender2['Female'], color='lightcoral', label='female', bottom=city_gender2['Male'])\n",
    "ax.bar_label(bar1, label_type='center')\n",
    "ax.bar_label(bar2, label_type='center')\n",
    "plt.xticks(rotation=45);plt.legend();plt.show()"
   ]
  },
  {
   "cell_type": "code",
   "execution_count": null,
   "metadata": {},
   "outputs": [],
   "source": [
    "plt.boxplot(df['TOTAL_PRICE']);plt.show()"
   ]
  },
  {
   "cell_type": "code",
   "execution_count": null,
   "metadata": {},
   "outputs": [],
   "source": [
    "plt.scatter(df['UNIT_PRICE'], df['TOTAL_PRICE']);plt.show()"
   ]
  },
  {
   "cell_type": "code",
   "execution_count": null,
   "metadata": {},
   "outputs": [],
   "source": [
    "man = df[df['GENDER']=='Male']\n",
    "woman = df[df['GENDER']=='Female']\n",
    "\n",
    "plt.scatter(man['UNIT_PRICE'], man['TOTAL_PRICE'], color='cornflowerblue', label='man')\n",
    "plt.scatter(woman['UNIT_PRICE'], woman['TOTAL_PRICE'], color='coral', label='woman')\n",
    "plt.legend(title='GENDER');plt.xlabel('unit price');plt.ylabel('Total price');plt.show()"
   ]
  },
  {
   "cell_type": "code",
   "execution_count": null,
   "metadata": {},
   "outputs": [],
   "source": [
    "plt.pie(x=category_counts, labels=category_counts.index, startangle=90, counterclock=False, autopct='%.1f%%', explode=[0.1, 0, 0], colors=['moccasin', 'darkkhaki', 'seagreen']);plt.show()"
   ]
  },
  {
   "cell_type": "code",
   "execution_count": null,
   "metadata": {},
   "outputs": [],
   "source": [
    "sns.histplot(data=df, x='TOTAL_PRICE', hue='GENDER', stat='percent', bins=20, kde=True);plt.show()"
   ]
  },
  {
   "cell_type": "code",
   "execution_count": null,
   "metadata": {},
   "outputs": [],
   "source": [
    "sns.countplot(data=df, x='CITY', hue='GENDER', palette=sns.color_palette(['#FA5858', '#F7BE81', '#81F7BE']));plt.show()"
   ]
  },
  {
   "cell_type": "code",
   "execution_count": null,
   "metadata": {},
   "outputs": [],
   "source": [
    "sns.boxplot(data=df, x='GENDER', y='TOTAL_PRICE');plt.show()"
   ]
  },
  {
   "cell_type": "code",
   "execution_count": null,
   "metadata": {},
   "outputs": [],
   "source": [
    "sns.scatterplot(data=df, x='UNIT_PRICE', y='TOTAL_PRICE', hue='GENDER', size='CITY');plt.plot()"
   ]
  },
  {
   "cell_type": "code",
   "execution_count": null,
   "metadata": {},
   "outputs": [],
   "source": [
    "fig = px.histogram(data_frame=df, x='TOTAL_PRICE', color='GENDER', title='TOTAL PRICE GENDER')\n",
    "fig.update_layout(barmode='overlay', width=600, height=400)\n",
    "fig.show()"
   ]
  },
  {
   "cell_type": "code",
   "execution_count": null,
   "metadata": {},
   "outputs": [],
   "source": [
    "fig = px.box(data_frame=df, x='GENDER', y='TOTAL_PRICE', color='GENDER')\n",
    "fig.show()"
   ]
  },
  {
   "cell_type": "code",
   "execution_count": null,
   "metadata": {},
   "outputs": [],
   "source": [
    "fig = px.box(data_frame=df, x='TOTAL_PRICE', y='GENDER', color='GENDER')\n",
    "fig.show()"
   ]
  },
  {
   "cell_type": "code",
   "execution_count": null,
   "metadata": {},
   "outputs": [],
   "source": [
    "fig = px.scatter(data_frame=df, x='UNIT_PRICE', y='TOTAL_PRICE', color='CITY', symbol='GENDER')\n",
    "fig.show()"
   ]
  },
  {
   "cell_type": "code",
   "execution_count": null,
   "metadata": {},
   "outputs": [],
   "source": [
    "category_counts = df['CITY'].value_counts().reset_index()\n",
    "category_counts.columns = ['city', 'freq']"
   ]
  },
  {
   "cell_type": "code",
   "execution_count": null,
   "metadata": {},
   "outputs": [],
   "source": [
    "fig = px.pie(data_frame=category_counts, names='city', values='freq')\n",
    "fig.update_traces(hole=.3, pull=[.1, 0, 0])\n",
    "fig.update_layout(width=600, height=500)\n",
    "fig.show()"
   ]
  }
 ],
 "metadata": {
  "kernelspec": {
   "display_name": "Python 3",
   "language": "python",
   "name": "python3"
  },
  "language_info": {
   "codemirror_mode": {
    "name": "ipython",
    "version": 3
   },
   "file_extension": ".py",
   "mimetype": "text/x-python",
   "name": "python",
   "nbconvert_exporter": "python",
   "pygments_lexer": "ipython3",
   "version": "3.11.1"
  }
 },
 "nbformat": 4,
 "nbformat_minor": 2
}
