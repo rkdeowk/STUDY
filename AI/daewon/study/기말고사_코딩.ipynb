{
 "cells": [
  {
   "cell_type": "code",
   "execution_count": null,
   "metadata": {},
   "outputs": [],
   "source": [
    "import pandas as pd\n",
    "df_iris = pd.read_csv('./data/iris.csv')\n",
    "df_house = pd.read_csv('./data/house_prices.csv')\n",
    "df_wine = pd.read_csv('./data/wine_data.csv')"
   ]
  },
  {
   "cell_type": "markdown",
   "metadata": {},
   "source": [
    "---\n",
    "## 머신러닝"
   ]
  },
  {
   "cell_type": "markdown",
   "metadata": {},
   "source": [
    "---\n",
    "### 지도 학습\n",
    "| 지도학습 알고리즘      | 분류기                      | 회귀기                                     |\n",
    "|-----------------------|----------------------------|--------------------------------------------|\n",
    "| KNN                   | KNeighborsClassifier       | KNeighborsRegressor                        |\n",
    "| 회귀 분석              | LogisticRegression         | LinearRegression, Ridge, Lasso, ElasticNet |\n",
    "| 나이브 베이즈          | GaussianNB                 |                                            |\n",
    "| 의사 결정 나무         | DecisionTreeClassifier     | DecisionTreeRegressor                      |\n",
    "| 서포트 벡터 머신       | SVC                        | SVR                                        |\n",
    "| Voting                | VotingClassifier           | VotingRegressor                            |\n",
    "| RandomForest          | RandomForestClassifier     | RandomForestRegressor                      |\n",
    "| Bagging               | BaggingClassifier          | BaggingRegressor                           |\n",
    "| AdaBoost              | AdaBoostClassifier         | AdaBoostRegressor                          |\n",
    "| GradientBoosting      | GradientBoostingClassifier | GradientBoostingRegressor                  |\n",
    "| Stacking              | StackingClassifier         | StackingRegressor                          |"
   ]
  },
  {
   "cell_type": "code",
   "execution_count": null,
   "metadata": {},
   "outputs": [],
   "source": [
    "def preprocessing(df):\n",
    "    X = df.iloc[:, :-1]\n",
    "    y = df.iloc[:, -1]\n",
    "    \n",
    "    from sklearn.model_selection import train_test_split\n",
    "    X_tn, X_te, y_tn, y_te = train_test_split(X, y, random_state=0)\n",
    "\n",
    "    from sklearn.preprocessing import StandardScaler\n",
    "    scaler = StandardScaler()\n",
    "    scaler.fit(X_tn)\n",
    "    X_tn_std = scaler.transform(X_tn)\n",
    "    X_te_std = scaler.transform(X_te)\n",
    "    \n",
    "    return X_tn_std, X_te_std, y_tn, y_te\n",
    "\n",
    "def print_result_classifier(y, pred):\n",
    "    from sklearn.metrics import accuracy_score, precision_score, recall_score, f1_score\n",
    "    from sklearn.metrics import confusion_matrix, classification_report\n",
    "    print(accuracy_score(y, pred))\n",
    "    print(precision_score(y, pred, average='macro'))\n",
    "    print(recall_score(y, pred, average='macro'))\n",
    "    print(f1_score(y, pred, average='macro'))\n",
    "    print(confusion_matrix(y, pred))\n",
    "    print(classification_report(y, pred))\n",
    "    \n",
    "def print_result(y, pred):\n",
    "    from sklearn.metrics import mean_squared_error, r2_score\n",
    "    print(f'mse: {mean_squared_error(y, pred):.6f}, r2_score: {r2_score(y, pred):.6f}')"
   ]
  },
  {
   "cell_type": "markdown",
   "metadata": {},
   "source": [
    "---\n",
    "KNN"
   ]
  },
  {
   "cell_type": "code",
   "execution_count": null,
   "metadata": {},
   "outputs": [],
   "source": [
    "# KNN 분류\n",
    "X_tn_std, X_te_std, y_tn, y_te = preprocessing(df_iris)\n",
    "\n",
    "from sklearn.neighbors import KNeighborsClassifier\n",
    "clf = KNeighborsClassifier(n_neighbors=2)\n",
    "clf.fit(X_tn_std, y_tn)\n",
    "print_result_classifier(y_te, clf.predict(X_te_std))"
   ]
  },
  {
   "cell_type": "code",
   "execution_count": null,
   "metadata": {},
   "outputs": [],
   "source": [
    "# KNN 회귀\n",
    "X_tn_std, X_te_std, y_tn, y_te = preprocessing(df_house)\n",
    "\n",
    "from sklearn.neighbors import KNeighborsRegressor\n",
    "clf = KNeighborsRegressor(n_neighbors=2)\n",
    "clf.fit(X_tn_std, y_tn)\n",
    "print_result(y_te, clf.predict(X_te_std))"
   ]
  },
  {
   "cell_type": "markdown",
   "metadata": {},
   "source": [
    "---\n",
    "로지스틱 회귀"
   ]
  },
  {
   "cell_type": "code",
   "execution_count": null,
   "metadata": {},
   "outputs": [],
   "source": [
    "# 로지스틱 회귀 분류\n",
    "X_tn_std, X_te_std, y_tn, y_te = preprocessing(df_wine)\n",
    "\n",
    "from sklearn.linear_model import LogisticRegression\n",
    "clf = LogisticRegression(penalty='l2')\n",
    "clf.fit(X_tn_std, y_tn)\n",
    "print_result_classifier(y_te, clf.predict(X_te_std))"
   ]
  },
  {
   "cell_type": "markdown",
   "metadata": {},
   "source": [
    "---\n",
    "선형 회귀"
   ]
  },
  {
   "cell_type": "code",
   "execution_count": null,
   "metadata": {},
   "outputs": [],
   "source": [
    "# 선형 회귀\n",
    "X_tn_std, X_te_std, y_tn, y_te = preprocessing(df_house)\n",
    "\n",
    "from sklearn.linear_model import LinearRegression, Ridge, Lasso, ElasticNet\n",
    "clf_linear = LinearRegression()\n",
    "clf_linear.fit(X_tn_std, y_tn)\n",
    "clf_ridge = Ridge(alpha=1)\n",
    "clf_ridge.fit(X_tn_std, y_tn)\n",
    "clf_lasso = Lasso(alpha=0.01)\n",
    "clf_lasso.fit(X_tn_std, y_tn)\n",
    "clf_elastic = ElasticNet(alpha=0.01, l1_ratio=0.01)\n",
    "clf_elastic.fit(X_tn_std, y_tn)\n",
    "print_result(y_te, clf_linear.predict(X_te_std))\n",
    "print_result(y_te, clf_ridge.predict(X_te_std))\n",
    "print_result(y_te, clf_lasso.predict(X_te_std))\n",
    "print_result(y_te, clf_elastic.predict(X_te_std))"
   ]
  },
  {
   "cell_type": "markdown",
   "metadata": {},
   "source": [
    "---\n",
    "나이브 베이즈"
   ]
  },
  {
   "cell_type": "code",
   "execution_count": null,
   "metadata": {},
   "outputs": [],
   "source": [
    "# 나이브 베이즈 분류\n",
    "X_tn_std, X_te_std, y_tn, y_te = preprocessing(df_wine)\n",
    "\n",
    "from sklearn.naive_bayes import GaussianNB\n",
    "clf = GaussianNB()\n",
    "clf.fit(X_tn_std, y_tn)\n",
    "print_result_classifier(y_te, clf.predict(X_te_std))"
   ]
  },
  {
   "cell_type": "markdown",
   "metadata": {},
   "source": [
    "---\n",
    "의사 결정 나무"
   ]
  },
  {
   "cell_type": "code",
   "execution_count": null,
   "metadata": {},
   "outputs": [],
   "source": [
    "# 의사 결정 나무 분류\n",
    "X_tn_std, X_te_std, y_tn, y_te = preprocessing(df_wine)\n",
    "\n",
    "from sklearn.tree import DecisionTreeClassifier\n",
    "clf = DecisionTreeClassifier(random_state=0)\n",
    "clf.fit(X_tn_std, y_tn)\n",
    "print_result_classifier(y_te, clf.predict(X_te_std))"
   ]
  },
  {
   "cell_type": "code",
   "execution_count": null,
   "metadata": {},
   "outputs": [],
   "source": [
    "# 의사 결정 나무 회귀\n",
    "X_tn_std, X_te_std, y_tn, y_te = preprocessing(df_house)\n",
    "\n",
    "from sklearn.tree import DecisionTreeRegressor\n",
    "clf = DecisionTreeRegressor(random_state=0)\n",
    "clf.fit(X_tn_std, y_tn)\n",
    "pred = clf.predict(X_te_std)\n",
    "print_result(y_te, pred)"
   ]
  },
  {
   "cell_type": "markdown",
   "metadata": {},
   "source": [
    "---\n",
    "서포트 벡터 머신"
   ]
  },
  {
   "cell_type": "code",
   "execution_count": null,
   "metadata": {},
   "outputs": [],
   "source": [
    "# 서포트 벡터 머신 분류\n",
    "X_tn_std, X_te_std, y_tn, y_te = preprocessing(df_wine)\n",
    "\n",
    "from sklearn.svm import SVC\n",
    "clf = SVC(kernel='linear')\n",
    "clf.fit(X_tn_std, y_tn)\n",
    "print_result_classifier(y_te, clf.predict(X_te_std))"
   ]
  },
  {
   "cell_type": "code",
   "execution_count": null,
   "metadata": {},
   "outputs": [],
   "source": [
    "# 서포트 벡터 머신 회귀\n",
    "X_tn_std, X_te_std, y_tn, y_te = preprocessing(df_house)\n",
    "\n",
    "from sklearn.svm import SVR\n",
    "clf = SVR(kernel='linear')\n",
    "clf.fit(X_tn_std, y_tn)\n",
    "print_result(y_te, clf.predict(X_te_std))"
   ]
  },
  {
   "cell_type": "markdown",
   "metadata": {},
   "source": [
    "---\n",
    "보팅"
   ]
  },
  {
   "cell_type": "code",
   "execution_count": null,
   "metadata": {},
   "outputs": [],
   "source": [
    "# 보팅 분류\n",
    "X_tn_std, X_te_std, y_tn, y_te = preprocessing(df_wine)\n",
    "\n",
    "from sklearn.linear_model import LogisticRegression\n",
    "from sklearn.svm import SVC\n",
    "from sklearn.naive_bayes import GaussianNB\n",
    "from sklearn.ensemble import VotingClassifier\n",
    "\n",
    "clf = VotingClassifier(\n",
    "    estimators=[\n",
    "        ('logistic_regression', LogisticRegression()),\n",
    "        ('svc', SVC(kernel='linear')),\n",
    "        ('gaussianNB', GaussianNB())\n",
    "    ],\n",
    "    voting='hard',\n",
    "    weights=[1, 1, 1]\n",
    ")\n",
    "clf.fit(X_tn_std, y_tn)\n",
    "print_result_classifier(y_te, clf.predict(X_te_std))"
   ]
  },
  {
   "cell_type": "code",
   "execution_count": null,
   "metadata": {},
   "outputs": [],
   "source": [
    "# 보팅 회귀\n",
    "X_tn_std, X_te_std, y_tn, y_te = preprocessing(df_house)\n",
    "\n",
    "from sklearn.linear_model import LinearRegression\n",
    "from sklearn.svm import SVR\n",
    "from sklearn.tree import DecisionTreeRegressor\n",
    "from sklearn.ensemble import VotingRegressor\n",
    "\n",
    "clf = VotingRegressor(\n",
    "    estimators=[\n",
    "        ('linear_regression', LinearRegression()),\n",
    "        ('svm', SVR(kernel='linear')),\n",
    "        ('tree', DecisionTreeRegressor())\n",
    "    ],\n",
    "    weights=[1, 1, 1]\n",
    ")\n",
    "clf.fit(X_tn_std, y_tn)\n",
    "print_result(y_te, clf.predict(X_te_std))"
   ]
  },
  {
   "cell_type": "markdown",
   "metadata": {},
   "source": [
    "---\n",
    "랜덤 포레스트"
   ]
  },
  {
   "cell_type": "code",
   "execution_count": null,
   "metadata": {},
   "outputs": [],
   "source": [
    "# 랜덤 포레스트 분류\n",
    "X_tn_std, X_te_std, y_tn, y_te = preprocessing(df_wine)\n",
    "\n",
    "from sklearn.ensemble import RandomForestClassifier\n",
    "clf = RandomForestClassifier(max_depth=2,\n",
    "                             random_state=0)\n",
    "clf.fit(X_tn_std, y_tn)\n",
    "print_result_classifier(y_te, clf.predict(X_te_std))"
   ]
  },
  {
   "cell_type": "code",
   "execution_count": null,
   "metadata": {},
   "outputs": [],
   "source": [
    "# 랜덤 포레스트 회귀\n",
    "X_tn_std, X_te_std, y_tn, y_te = preprocessing(df_house)\n",
    "\n",
    "from sklearn.ensemble import RandomForestRegressor\n",
    "clf = RandomForestRegressor(max_depth=2,\n",
    "                            random_state=0)\n",
    "clf.fit(X_tn_std, y_tn)\n",
    "print_result(y_te, clf.predict(X_te_std))"
   ]
  },
  {
   "cell_type": "markdown",
   "metadata": {},
   "source": [
    "---\n",
    "배깅"
   ]
  },
  {
   "cell_type": "code",
   "execution_count": null,
   "metadata": {},
   "outputs": [],
   "source": [
    "# 배깅 분류\n",
    "X_tn_std, X_te_std, y_tn, y_te = preprocessing(df_wine)\n",
    "\n",
    "from sklearn.naive_bayes import GaussianNB\n",
    "from sklearn.ensemble import BaggingClassifier\n",
    "clf = BaggingClassifier(estimator=GaussianNB(),\n",
    "                        n_estimators=10,\n",
    "                        random_state=0)\n",
    "clf.fit(X_tn_std, y_tn)\n",
    "print_result_classifier(y_te, clf.predict(X_te_std))"
   ]
  },
  {
   "cell_type": "code",
   "execution_count": null,
   "metadata": {},
   "outputs": [],
   "source": [
    "# 배깅 회귀\n",
    "X_tn_std, X_te_std, y_tn, y_te = preprocessing(df_house)\n",
    "\n",
    "from sklearn.svm import SVR\n",
    "from sklearn.ensemble import BaggingRegressor\n",
    "clf = BaggingRegressor(estimator=SVR(),\n",
    "                       n_estimators=10,\n",
    "                       random_state=0)\n",
    "clf.fit(X_tn_std, y_tn)\n",
    "print_result(y_te, clf.predict(X_te_std))"
   ]
  },
  {
   "cell_type": "markdown",
   "metadata": {},
   "source": [
    "---\n",
    "AdaBoost"
   ]
  },
  {
   "cell_type": "code",
   "execution_count": null,
   "metadata": {},
   "outputs": [],
   "source": [
    "# AdaBoost 분류\n",
    "X_tn_std, X_te_std, y_tn, y_te = preprocessing(df_wine)\n",
    "\n",
    "from sklearn.ensemble import AdaBoostClassifier\n",
    "clf = AdaBoostClassifier(random_state=0)\n",
    "clf.fit(X_tn_std, y_tn)\n",
    "print_result_classifier(y_te, clf.predict(X_te_std))"
   ]
  },
  {
   "cell_type": "code",
   "execution_count": null,
   "metadata": {},
   "outputs": [],
   "source": [
    "# AdaBoost 회귀\n",
    "X_tn_std, X_te_std, y_tn, y_te = preprocessing(df_house)\n",
    "\n",
    "from sklearn.ensemble import AdaBoostRegressor\n",
    "clf = AdaBoostRegressor(random_state=0)\n",
    "clf.fit(X_tn_std, y_tn)\n",
    "print_result(y_te, clf.predict(X_te_std))"
   ]
  },
  {
   "cell_type": "markdown",
   "metadata": {},
   "source": [
    "---\n",
    "GradientBoosting"
   ]
  },
  {
   "cell_type": "code",
   "execution_count": null,
   "metadata": {},
   "outputs": [],
   "source": [
    "# GradientBoosting 분류\n",
    "X_tn_std, X_te_std, y_tn, y_te = preprocessing(df_wine)\n",
    "\n",
    "from sklearn.ensemble import GradientBoostingClassifier\n",
    "clf = GradientBoostingClassifier(max_depth=2, learning_rate=0.1, random_state=0)\n",
    "clf.fit(X_tn_std, y_tn)\n",
    "print_result_classifier(y_te, clf.predict(X_te_std))"
   ]
  },
  {
   "cell_type": "code",
   "execution_count": null,
   "metadata": {},
   "outputs": [],
   "source": [
    "# GradientBoosting 회귀\n",
    "X_tn_std, X_te_std, y_tn, y_te = preprocessing(df_house)\n",
    "\n",
    "from sklearn.ensemble import GradientBoostingRegressor\n",
    "clf = GradientBoostingRegressor(max_depth=2, learning_rate=0.1, random_state=0)\n",
    "clf.fit(X_tn_std, y_tn)\n",
    "print_result(y_te, clf.predict(X_te_std))"
   ]
  },
  {
   "cell_type": "markdown",
   "metadata": {},
   "source": [
    "---\n",
    "Stacking"
   ]
  },
  {
   "cell_type": "code",
   "execution_count": null,
   "metadata": {},
   "outputs": [],
   "source": [
    "# Stacking 분류\n",
    "X_tn_std, X_te_std, y_tn, y_te = preprocessing(df_wine)\n",
    "\n",
    "from sklearn.svm import SVC\n",
    "from sklearn.naive_bayes import GaussianNB\n",
    "from sklearn.linear_model import LogisticRegression\n",
    "from sklearn.ensemble import StackingClassifier\n",
    "clf1 = SVC(kernel='linear', random_state=1)\n",
    "clf2 = GaussianNB()\n",
    "clf = StackingClassifier(\n",
    "    estimators=[\n",
    "        ('svm', clf1),\n",
    "        ('gnb', clf2)\n",
    "    ],\n",
    "    final_estimator=LogisticRegression())\n",
    "clf.fit(X_tn_std, y_tn)\n",
    "print_result_classifier(y_te, clf.predict(X_te_std))"
   ]
  },
  {
   "cell_type": "code",
   "execution_count": null,
   "metadata": {},
   "outputs": [],
   "source": [
    "# Stacking 회귀\n",
    "X_tn_std, X_te_std, y_tn, y_te = preprocessing(df_house)\n",
    "\n",
    "from sklearn.svm import SVR\n",
    "from sklearn.tree import DecisionTreeRegressor\n",
    "from sklearn.linear_model import LinearRegression\n",
    "from sklearn.ensemble import StackingRegressor\n",
    "clf1 = SVR(kernel='linear')\n",
    "clf2 = DecisionTreeRegressor()\n",
    "clf = StackingRegressor(\n",
    "    estimators=[\n",
    "        ('svm', clf1),\n",
    "        ('gnb', clf2)\n",
    "    ],\n",
    "    final_estimator=LinearRegression())\n",
    "clf.fit(X_tn_std, y_tn)\n",
    "print_result(y_te, clf.predict(X_te_std))"
   ]
  },
  {
   "cell_type": "markdown",
   "metadata": {},
   "source": [
    "---\n",
    "### 비지도 학습\n",
    "| 비지도학습 알고리즘    | Class                      |\n",
    "|-----------------------|----------------------------|\n",
    "| k-means               | KMeans                     |\n",
    "| DBSCAN                | DBSCAN                     |\n",
    "| GMM                   | GaussianMixture            |\n",
    "| One Class SVM         | OneClassSVM                |\n",
    "| Local Oulier Factor   | LocalOutlierFactor         |\n",
    "| Isolation Forest      | IsolationForest            |"
   ]
  },
  {
   "cell_type": "code",
   "execution_count": null,
   "metadata": {},
   "outputs": [],
   "source": [
    "import matplotlib.pyplot as plt\n",
    "from sklearn.datasets import make_blobs, make_moons\n",
    "from sklearn.metrics import silhouette_score"
   ]
  },
  {
   "cell_type": "markdown",
   "metadata": {},
   "source": [
    "---\n",
    "k-means"
   ]
  },
  {
   "cell_type": "code",
   "execution_count": null,
   "metadata": {},
   "outputs": [],
   "source": [
    "# k-means 분류 (거리)\n",
    "X, y = make_blobs(n_samples=100, n_features=2, centers=5, random_state=10)\n",
    "plt.scatter(X[:, 0], X[:, 1], c='gray', edgecolors='black', marker='o')\n",
    "\n",
    "from sklearn.cluster import KMeans\n",
    "clf = KMeans(n_clusters=5, init='random', n_init=10, max_iter=100, random_state=0)\n",
    "clf.fit(X)\n",
    "df = pd.DataFrame(X)\n",
    "df['target'] = y\n",
    "df['label'] = clf.labels_\n",
    "markers = ['o', 'x', '^', 's', '*']\n",
    "for i, mark in enumerate(markers):\n",
    "    df_i = df[df['label']==i]\n",
    "    plt.scatter(df_i[0], df_i[1], marker=mark, label=i)\n",
    "plt.legend()\n",
    "plt.show()\n",
    "\n",
    "print(silhouette_score(X, clf.labels_))"
   ]
  },
  {
   "cell_type": "markdown",
   "metadata": {},
   "source": [
    "---\n",
    "DBSCAN"
   ]
  },
  {
   "cell_type": "code",
   "execution_count": null,
   "metadata": {},
   "outputs": [],
   "source": [
    "# DBSCAN 분류 (밀도)\n",
    "X, y = make_moons(n_samples=300, noise=0.05, random_state=10)\n",
    "plt.scatter(X[:, 0], X[:, 1], c='gray', edgecolors='black', marker='o')\n",
    "\n",
    "from sklearn.cluster import DBSCAN\n",
    "clf = DBSCAN(eps=0.2)\n",
    "clf.fit(X)\n",
    "df = pd.DataFrame(X)\n",
    "df['target'] = y\n",
    "df['label'] = clf.labels_\n",
    "markers = ['o', 'x']\n",
    "for i, mark in enumerate(markers):\n",
    "    df_i = df[df['label']==i]\n",
    "    plt.scatter(df_i[0], df_i[1], marker=mark, label=i)\n",
    "plt.legend()\n",
    "plt.show()\n",
    "\n",
    "print(silhouette_score(X, clf.labels_))"
   ]
  },
  {
   "cell_type": "markdown",
   "metadata": {},
   "source": [
    "---\n",
    "Gaussian Mixture Model"
   ]
  },
  {
   "cell_type": "code",
   "execution_count": null,
   "metadata": {},
   "outputs": [],
   "source": [
    "# DBSCAN 분류\n",
    "X, y = make_blobs(n_samples=200, n_features=2, centers=2, random_state=10)\n",
    "plt.scatter(X[:, 0], X[:, 1], c='gray', edgecolors='black', marker='o')\n",
    "\n",
    "from sklearn.mixture import GaussianMixture\n",
    "clf = GaussianMixture(n_components=2, random_state=0)\n",
    "clf.fit(X)\n",
    "pred = clf.predict(X)\n",
    "df = pd.DataFrame(X)\n",
    "df['target'] = y\n",
    "df['label'] = pred\n",
    "markers = ['o', 'x', '^', 's', '*']\n",
    "for i, mark in enumerate(markers):\n",
    "    df_i = df[df['label']==i]\n",
    "    plt.scatter(df_i[0], df_i[1], marker=mark, label=i)\n",
    "plt.legend()\n",
    "plt.show()\n",
    "\n",
    "print(silhouette_score(X, pred))"
   ]
  },
  {
   "cell_type": "markdown",
   "metadata": {},
   "source": [
    "---\n",
    "One Class SVM (nu: 이상치 비율)"
   ]
  },
  {
   "cell_type": "code",
   "execution_count": null,
   "metadata": {},
   "outputs": [],
   "source": [
    "X = df_wine[['Alcohol', 'Magesium']]\n",
    "\n",
    "from sklearn.svm import OneClassSVM\n",
    "clf = OneClassSVM(gamma='auto', nu=0.5)\n",
    "clf.fit(X)\n",
    "print(silhouette_score(X, clf.predict(X)))"
   ]
  },
  {
   "cell_type": "markdown",
   "metadata": {},
   "source": [
    "---\n",
    "Local Outlier Factor (fit_predict)"
   ]
  },
  {
   "cell_type": "code",
   "execution_count": null,
   "metadata": {},
   "outputs": [],
   "source": [
    "X = df_wine[['Alcohol', 'Magesium']]\n",
    "\n",
    "from sklearn.neighbors import LocalOutlierFactor\n",
    "clf = LocalOutlierFactor(n_neighbors=3)\n",
    "print(silhouette_score(X, clf.fit_predict(X)))"
   ]
  },
  {
   "cell_type": "markdown",
   "metadata": {},
   "source": [
    "---\n",
    "Isolation Forest"
   ]
  },
  {
   "cell_type": "code",
   "execution_count": null,
   "metadata": {},
   "outputs": [],
   "source": [
    "X = df_wine[['Alcohol', 'Magesium']]\n",
    "\n",
    "from sklearn.ensemble import IsolationForest\n",
    "clf = IsolationForest(random_state=0)\n",
    "clf.fit(X)\n",
    "silhouette_score(X, clf.predict(X))"
   ]
  },
  {
   "cell_type": "markdown",
   "metadata": {},
   "source": [
    "---\n",
    "## Cross validation"
   ]
  },
  {
   "cell_type": "code",
   "execution_count": null,
   "metadata": {},
   "outputs": [],
   "source": [
    "X_tn_std, X_te_std, y_tn, y_te = preprocessing(df_wine)\n",
    "\n",
    "from sklearn.svm import SVC\n",
    "from sklearn.model_selection import StratifiedKFold, GridSearchCV\n",
    "param_grid = {'kernel': ('linear', 'rbf'),\n",
    "              'C': [0.5, 1, 10, 100]}\n",
    "kfold = StratifiedKFold(n_splits=5, shuffle=True, random_state=0)\n",
    "svc = SVC(random_state=0)\n",
    "grid_cv = GridSearchCV(svc, param_grid, cv=kfold, scoring='accuracy')\n",
    "grid_cv.fit(X_tn_std, y_tn)\n",
    "\n",
    "grid_cv.best_score_\n",
    "grid_cv.best_params_\n",
    "clf = grid_cv.best_estimator_\n",
    "pd.DataFrame(grid_cv.cv_results_).T"
   ]
  },
  {
   "cell_type": "code",
   "execution_count": null,
   "metadata": {},
   "outputs": [],
   "source": [
    "from sklearn.model_selection import cross_validate, cross_val_score\n",
    "metrics = ['accuracy', 'precision_macro', 'recall_macro', 'f1_macro']\n",
    "cv_score = cross_validate(clf, X_tn_std, y_tn, cv=kfold, scoring=metrics)\n",
    "cv_score2 = cross_val_score(clf, X_tn_std, y_tn, cv=kfold, scoring='accuracy')\n",
    "print_result_classifier(y_te, clf.predict(X_te_std))"
   ]
  },
  {
   "cell_type": "markdown",
   "metadata": {},
   "source": [
    "---\n",
    "## PyCaret"
   ]
  },
  {
   "cell_type": "code",
   "execution_count": null,
   "metadata": {},
   "outputs": [],
   "source": [
    "from pycaret.classification import *\n",
    "\n",
    "exp1 = setup(data=df_wine, target='class', session_id=123)\n",
    "best_model = compare_models()\n",
    "tuned_model = tune_model(best_model)\n",
    "evaluate_model(tuned_model)\n",
    "predict_model(tuned_model)\n",
    "final_model = finalize_model(tuned_model)\n",
    "# save_model(final_model, 'wine_model')\n",
    "# loaded_model = load_model('wine_model')\n",
    "# new_data = df_wine.iloc[20:40, :-1]\n",
    "# predictions = predict_model(loaded_model, data=new_data)"
   ]
  },
  {
   "cell_type": "code",
   "execution_count": null,
   "metadata": {},
   "outputs": [],
   "source": [
    "from pycaret.regression import *\n",
    "\n",
    "exp2 = setup(data=df_house, target='MEDV', session_id=456)\n",
    "best_model = compare_models()\n",
    "tuned_model = tune_model(best_model)\n",
    "evaluate_model(tuned_model)\n",
    "predict_model(tuned_model)\n",
    "final_model = finalize_model(tuned_model)\n",
    "# save_model(final_model, 'boston_house_model')\n",
    "# loaded_model = load_model('boston_house_model')\n",
    "# new_data = df_house.iloc[20:40, :-1]\n",
    "# predictions = predict_model(loaded_model, data=new_data)"
   ]
  }
 ],
 "metadata": {
  "kernelspec": {
   "display_name": "py3_11_7",
   "language": "python",
   "name": "python3"
  },
  "language_info": {
   "codemirror_mode": {
    "name": "ipython",
    "version": 3
   },
   "file_extension": ".py",
   "mimetype": "text/x-python",
   "name": "python",
   "nbconvert_exporter": "python",
   "pygments_lexer": "ipython3",
   "version": "3.11.7"
  }
 },
 "nbformat": 4,
 "nbformat_minor": 2
}
