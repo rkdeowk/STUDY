{
 "cells": [
  {
   "cell_type": "code",
   "execution_count": null,
   "metadata": {},
   "outputs": [],
   "source": [
    "def preprocessing(df):\n",
    "    X = df.iloc[:, :-1]\n",
    "    y = df.iloc[:, -1]\n",
    "    \n",
    "    from sklearn.model_selection import train_test_split\n",
    "    X_tn, X_te, y_tn, y_te = train_test_split(X, y, random_state=0)\n",
    "\n",
    "    from sklearn.preprocessing import StandardScaler\n",
    "    scaler = StandardScaler()\n",
    "    scaler.fit(X_tn)\n",
    "    X_tn_std = scaler.transform(X_tn)\n",
    "    X_te_std = scaler.transform(X_te)\n",
    "    \n",
    "    return X_tn_std, X_te_std, y_tn, y_te\n",
    "\n",
    "def print_result_classifier(y, pred):\n",
    "    from sklearn.metrics import accuracy_score, precision_score, recall_score, f1_score\n",
    "    from sklearn.metrics import confusion_matrix, classification_report\n",
    "    print(accuracy_score(y, pred))\n",
    "    print(precision_score(y, pred, average='macro'))\n",
    "    print(recall_score(y, pred, average='macro'))\n",
    "    print(f1_score(y, pred, average='macro'))\n",
    "    print(confusion_matrix(y, pred))\n",
    "    print(classification_report(y, pred))\n",
    "    \n",
    "def print_result(y, pred):\n",
    "    from sklearn.metrics import mean_squared_error, r2_score\n",
    "    print(f'mse: {mean_squared_error(y, pred):.6f}, r2_score: {r2_score(y, pred):.6f}')"
   ]
  },
  {
   "cell_type": "code",
   "execution_count": null,
   "metadata": {},
   "outputs": [],
   "source": [
    "import pandas as pd\n",
    "df_iris = pd.read_csv('./data/iris.csv')\n",
    "df_house = pd.read_csv('./data/house_prices.csv')\n",
    "df_wine = pd.read_csv('./data/wine_data.csv')"
   ]
  },
  {
   "cell_type": "markdown",
   "metadata": {},
   "source": [
    "| 분류                  | 분류기                  | 회귀기                                     |\n",
    "|-----------------------|------------------------|--------------------------------------------|\n",
    "| KNeighbors            | KNeighborsClassifier   | KNeighborsRegressor                        |\n",
    "| Regression            | LogisticRegression     | LinearRegression, Ridge, Lasso, ElasticNet |\n",
    "| GaussianNB            | GaussianNB             |                                            |\n",
    "| DecisionTree          | DecisionTreeClassifier | DecisionTreeRegressor                      |\n",
    "| SVM                   | SVC                    | SVR                                        |\n",
    "| Voting                | VotingClassifier       | VotingRegressor                            |\n",
    "| RandomForest          | RandomForestClassifier | RandomForestRegressor                      |\n",
    "| Bagging               | BaggingClassifier      | BaggingRegressor                           |\n"
   ]
  },
  {
   "cell_type": "markdown",
   "metadata": {},
   "source": [
    "분류"
   ]
  },
  {
   "cell_type": "code",
   "execution_count": null,
   "metadata": {},
   "outputs": [],
   "source": [
    "# KNN 분류\n",
    "X_tn_std, X_te_std, y_tn, y_te = preprocessing(df_iris)\n",
    "\n",
    "from sklearn.neighbors import KNeighborsClassifier\n",
    "clf = KNeighborsClassifier(n_neighbors=2)\n",
    "clf.fit(X_tn_std, y_tn)\n",
    "pred = clf.predict(X_te_std)\n",
    "print_result_classifier(y_te, pred)"
   ]
  },
  {
   "cell_type": "code",
   "execution_count": null,
   "metadata": {},
   "outputs": [],
   "source": [
    "# 로지스틱 회귀 분류\n",
    "X_tn_std, X_te_std, y_tn, y_te = preprocessing(df_wine)\n",
    "\n",
    "from sklearn.linear_model import LogisticRegression\n",
    "clf = LogisticRegression(penalty='l2')\n",
    "clf.fit(X_tn_std, y_tn)\n",
    "# print(clf.coef_, clf.intercept_)\n",
    "# clf.predict_proba(X_te_std)\n",
    "print_result_classifier(y_te, clf.predict(X_te_std))"
   ]
  },
  {
   "cell_type": "code",
   "execution_count": null,
   "metadata": {},
   "outputs": [],
   "source": [
    "# 나이브 베이즈 분류\n",
    "X_tn_std, X_te_std, y_tn, y_te = preprocessing(df_wine)\n",
    "\n",
    "from sklearn.naive_bayes import GaussianNB\n",
    "clf = GaussianNB()\n",
    "clf.fit(X_tn_std, y_tn)\n",
    "print_result_classifier(y_te, clf.predict(X_te_std))"
   ]
  },
  {
   "cell_type": "code",
   "execution_count": null,
   "metadata": {},
   "outputs": [],
   "source": [
    "# 의사 결정 나무 분류\n",
    "X_tn_std, X_te_std, y_tn, y_te = preprocessing(df_wine)\n",
    "\n",
    "from sklearn.tree import DecisionTreeClassifier\n",
    "clf = DecisionTreeClassifier(random_state=0)\n",
    "clf.fit(X_tn_std, y_tn)\n",
    "print_result_classifier(y_te, clf.predict(X_te_std))"
   ]
  },
  {
   "cell_type": "code",
   "execution_count": null,
   "metadata": {},
   "outputs": [],
   "source": [
    "# 서포트 벡터 머신 분류\n",
    "X_tn_std, X_te_std, y_tn, y_te = preprocessing(df_wine)\n",
    "\n",
    "from sklearn.svm import SVC\n",
    "clf = SVC(kernel='linear')\n",
    "clf.fit(X_tn_std, y_tn)\n",
    "print_result_classifier(y_te, clf.predict(X_te_std))"
   ]
  },
  {
   "cell_type": "code",
   "execution_count": null,
   "metadata": {},
   "outputs": [],
   "source": [
    "# 보팅 분류\n",
    "X_tn_std, X_te_std, y_tn, y_te = preprocessing(df_wine)\n",
    "\n",
    "from sklearn.linear_model import LogisticRegression\n",
    "from sklearn.svm import SVC\n",
    "from sklearn.naive_bayes import GaussianNB\n",
    "from sklearn.ensemble import VotingClassifier\n",
    "\n",
    "clf = VotingClassifier(\n",
    "    estimators=[\n",
    "        ('logistic_regression', LogisticRegression()),\n",
    "        ('svc', SVC(kernel='linear')),\n",
    "        ('gaussianNB', GaussianNB())\n",
    "    ],\n",
    "    voting='hard',\n",
    "    weights=[1, 1, 1]\n",
    ")\n",
    "clf.fit(X_tn_std, y_tn)\n",
    "print_result_classifier(y_te, clf.predict(X_te_std))"
   ]
  },
  {
   "cell_type": "code",
   "execution_count": null,
   "metadata": {},
   "outputs": [],
   "source": [
    "# 랜덤 포레스트 분류\n",
    "X_tn_std, X_te_std, y_tn, y_te = preprocessing(df_wine)\n",
    "\n",
    "from sklearn.ensemble import RandomForestClassifier\n",
    "clf = RandomForestClassifier(max_depth=2,\n",
    "                             random_state=0)\n",
    "clf.fit(X_tn_std, y_tn)\n",
    "print_result_classifier(y_te, clf.predict(X_te_std))"
   ]
  },
  {
   "cell_type": "code",
   "execution_count": null,
   "metadata": {},
   "outputs": [],
   "source": [
    "# 배깅 분류\n",
    "X_tn_std, X_te_std, y_tn, y_te = preprocessing(df_wine)\n",
    "\n",
    "from sklearn.naive_bayes import GaussianNB\n",
    "from sklearn.ensemble import BaggingClassifier\n",
    "clf = BaggingClassifier(estimator=GaussianNB(),\n",
    "                        n_estimators=10,\n",
    "                        random_state=0)\n",
    "clf.fit(X_tn_std, y_tn)\n",
    "print_result_classifier(y_te, clf.predict(X_te_std))"
   ]
  },
  {
   "cell_type": "markdown",
   "metadata": {},
   "source": [
    "회귀"
   ]
  },
  {
   "cell_type": "code",
   "execution_count": null,
   "metadata": {},
   "outputs": [],
   "source": [
    "# KNN 회귀\n",
    "X_tn_std, X_te_std, y_tn, y_te = preprocessing(df_house)\n",
    "\n",
    "from sklearn.neighbors import KNeighborsRegressor\n",
    "clf = KNeighborsRegressor(n_neighbors=2)\n",
    "clf.fit(X_tn_std, y_tn)\n",
    "pred = clf.predict(X_te_std)\n",
    "print_result(y_te, pred)"
   ]
  },
  {
   "cell_type": "code",
   "execution_count": null,
   "metadata": {},
   "outputs": [],
   "source": [
    "# 선형 회귀\n",
    "X_tn_std, X_te_std, y_tn, y_te = preprocessing(df_house)\n",
    "\n",
    "from sklearn.linear_model import LinearRegression, Ridge, Lasso, ElasticNet\n",
    "clf_linear = LinearRegression()\n",
    "clf_linear.fit(X_tn_std, y_tn)\n",
    "clf_ridge = Ridge(alpha=1)\n",
    "clf_ridge.fit(X_tn_std, y_tn)\n",
    "clf_lasso = Lasso(alpha=0.01)\n",
    "clf_lasso.fit(X_tn_std, y_tn)\n",
    "clf_elastic = ElasticNet(alpha=0.01, l1_ratio=0.01)\n",
    "clf_elastic.fit(X_tn_std, y_tn)\n",
    "print_result(y_te, clf_linear.predict(X_te_std))\n",
    "print_result(y_te, clf_ridge.predict(X_te_std))\n",
    "print_result(y_te, clf_lasso.predict(X_te_std))\n",
    "print_result(y_te, clf_elastic.predict(X_te_std))"
   ]
  },
  {
   "cell_type": "code",
   "execution_count": null,
   "metadata": {},
   "outputs": [],
   "source": [
    "# 의사 결정 나무 회귀\n",
    "X_tn_std, X_te_std, y_tn, y_te = preprocessing(df_house)\n",
    "\n",
    "from sklearn.tree import DecisionTreeRegressor\n",
    "clf = DecisionTreeRegressor(random_state=0)\n",
    "clf.fit(X_tn_std, y_tn)\n",
    "pred = clf.predict(X_te_std)\n",
    "print_result(y_te, pred)"
   ]
  },
  {
   "cell_type": "code",
   "execution_count": null,
   "metadata": {},
   "outputs": [],
   "source": [
    "# 서포트 벡터 머신 회귀\n",
    "X_tn_std, X_te_std, y_tn, y_te = preprocessing(df_house)\n",
    "\n",
    "from sklearn.svm import SVR\n",
    "clf = SVR(kernel='linear')\n",
    "clf.fit(X_tn_std, y_tn)\n",
    "pred = clf.predict(X_te_std)\n",
    "print_result(y_te, pred)"
   ]
  },
  {
   "cell_type": "code",
   "execution_count": null,
   "metadata": {},
   "outputs": [],
   "source": [
    "# 보팅 회귀\n",
    "X_tn_std, X_te_std, y_tn, y_te = preprocessing(df_house)\n",
    "\n",
    "from sklearn.linear_model import LinearRegression\n",
    "from sklearn.svm import SVR\n",
    "from sklearn.tree import DecisionTreeRegressor\n",
    "from sklearn.ensemble import VotingRegressor\n",
    "\n",
    "clf = VotingRegressor(\n",
    "    estimators=[\n",
    "        ('linear_regression', LinearRegression()),\n",
    "        ('svm', SVR(kernel='linear')),\n",
    "        ('tree', DecisionTreeRegressor())\n",
    "    ],\n",
    "    weights=[1, 1, 1]\n",
    ")\n",
    "clf.fit(X_tn_std, y_tn)\n",
    "pred = clf.predict(X_te_std)\n",
    "print_result(y_te, pred)"
   ]
  },
  {
   "cell_type": "code",
   "execution_count": null,
   "metadata": {},
   "outputs": [],
   "source": [
    "# 랜덤 포레스트 회귀\n",
    "X_tn_std, X_te_std, y_tn, y_te = preprocessing(df_house)\n",
    "\n",
    "from sklearn.ensemble import RandomForestRegressor\n",
    "clf = RandomForestRegressor(max_depth=2,\n",
    "                            random_state=0)\n",
    "clf.fit(X_tn_std, y_tn)\n",
    "pred = clf.predict(X_te_std)\n",
    "print_result(y_te, pred)"
   ]
  },
  {
   "cell_type": "code",
   "execution_count": null,
   "metadata": {},
   "outputs": [],
   "source": [
    "# 배깅 회귀\n",
    "X_tn_std, X_te_std, y_tn, y_te = preprocessing(df_house)\n",
    "\n",
    "from sklearn.svm import SVR\n",
    "from sklearn.ensemble import BaggingRegressor\n",
    "clf = BaggingRegressor(estimator=SVR(),\n",
    "                       n_estimators=10,\n",
    "                       random_state=0)\n",
    "clf.fit(X_tn_std, y_tn)\n",
    "pred = clf.predict(X_te_std)\n",
    "print_result(y_te, pred)"
   ]
  }
 ],
 "metadata": {
  "kernelspec": {
   "display_name": "py3_11_7",
   "language": "python",
   "name": "python3"
  },
  "language_info": {
   "codemirror_mode": {
    "name": "ipython",
    "version": 3
   },
   "file_extension": ".py",
   "mimetype": "text/x-python",
   "name": "python",
   "nbconvert_exporter": "python",
   "pygments_lexer": "ipython3",
   "version": "3.11.7"
  }
 },
 "nbformat": 4,
 "nbformat_minor": 2
}
