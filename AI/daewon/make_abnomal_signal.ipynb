{
 "cells": [
  {
   "cell_type": "code",
   "execution_count": null,
   "metadata": {},
   "outputs": [],
   "source": [
    "import numpy as np\n",
    "import pandas as pd\n",
    "import matplotlib.pyplot as plt"
   ]
  },
  {
   "cell_type": "code",
   "execution_count": null,
   "metadata": {},
   "outputs": [],
   "source": [
    "def generate_data(signal_func, num_samples, *args):\n",
    "    data_list = []\n",
    "    for _ in range(num_samples):\n",
    "        _, val = signal_func(*args)\n",
    "        data_list.append(val)\n",
    "    return np.vstack(data_list)\n",
    "\n",
    "def add_outlier_signal(signal, outlier_ratio, range_, n_outlier=1):\n",
    "    start, end = range_\n",
    "    modified_signal = np.copy(signal)\n",
    "    outlier_index_list = np.random.choice(range(start, end+1), size=n_outlier, replace=False)\n",
    "    for outlier_index in outlier_index_list:\n",
    "        modified_signal[outlier_index] *= outlier_ratio\n",
    "    return outlier_index_list, modified_signal\n",
    "\n",
    "def add_noise_signal(signal, noise_ratio, range_):\n",
    "    start, end = range_\n",
    "    noisy_signal = np.copy(signal)\n",
    "    noisy_signal[start:end+1] += np.random.normal(scale=noise_ratio, size=end-start+1)\n",
    "    return range_, noisy_signal"
   ]
  },
  {
   "cell_type": "code",
   "execution_count": null,
   "metadata": {},
   "outputs": [],
   "source": [
    "# outlier_signal_array = generate_data(add_outlier_signal, 10000, y, 1.2, [0, 100], 2)\n",
    "# noise_signal_array = generate_data(add_noise_signal, 10000, y, 0.02, [0, 100])"
   ]
  },
  {
   "cell_type": "code",
   "execution_count": null,
   "metadata": {},
   "outputs": [],
   "source": [
    "def get_original_signal():\n",
    "    return {i: np.loadtxt(f'./data/signal/trend_data{i}.csv', delimiter=',') for i in range(1, 8)}"
   ]
  },
  {
   "cell_type": "code",
   "execution_count": null,
   "metadata": {},
   "outputs": [],
   "source": [
    "signal_dict = get_original_signal()"
   ]
  },
  {
   "cell_type": "code",
   "execution_count": null,
   "metadata": {},
   "outputs": [],
   "source": []
  }
 ],
 "metadata": {
  "kernelspec": {
   "display_name": "py3_11_7",
   "language": "python",
   "name": "python3"
  },
  "language_info": {
   "codemirror_mode": {
    "name": "ipython",
    "version": 3
   },
   "file_extension": ".py",
   "mimetype": "text/x-python",
   "name": "python",
   "nbconvert_exporter": "python",
   "pygments_lexer": "ipython3",
   "version": "3.11.1"
  }
 },
 "nbformat": 4,
 "nbformat_minor": 2
}
